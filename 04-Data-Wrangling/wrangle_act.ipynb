{
 "cells": [
  {
   "cell_type": "markdown",
   "metadata": {
    "extensions": {
     "jupyter_dashboards": {
      "version": 1,
      "views": {
       "grid_default": {
        "col": 0,
        "height": 4,
        "hidden": false,
        "row": 0,
        "width": 4
       },
       "report_default": {
        "hidden": false
       }
      }
     }
    }
   },
   "source": [
    "# Project: Wrangling and Analyze Data"
   ]
  },
  {
   "cell_type": "markdown",
   "metadata": {},
   "source": [
    "## Data Gathering\n",
    "In the cell below, gather **all** three pieces of data for this project and load them in the notebook. **Note:** the methods required to gather each data are different.\n",
    "1. Directly download the WeRateDogs Twitter archive data (twitter_archive_enhanced.csv)"
   ]
  },
  {
   "cell_type": "code",
   "execution_count": 1,
   "metadata": {
    "extensions": {
     "jupyter_dashboards": {
      "version": 1,
      "views": {
       "grid_default": {
        "hidden": true
       },
       "report_default": {
        "hidden": true
       }
      }
     }
    }
   },
   "outputs": [],
   "source": [
    "# importing the necessary libraries\n",
    "import pandas as pd\n",
    "import numpy as np"
   ]
  },
  {
   "cell_type": "code",
   "execution_count": 2,
   "metadata": {},
   "outputs": [],
   "source": [
    "# loading the twitter archieve csv data that we have downloaded\n",
    "wrd_df = pd.read_csv('twitter-archive-enhanced.csv')"
   ]
  },
  {
   "cell_type": "markdown",
   "metadata": {},
   "source": [
    "2. Use the Requests library to download the tweet image prediction (image_predictions.tsv)"
   ]
  },
  {
   "cell_type": "code",
   "execution_count": 3,
   "metadata": {},
   "outputs": [],
   "source": [
    "# downloading the tweet image prediction data using requests\n",
    "import requests\n",
    "url = 'https://d17h27t6h515a5.cloudfront.net/topher/2017/August/599fd2ad_image-predictions/image-predictions.tsv'\n",
    "img = requests.get(url, allow_redirects=True)\n",
    "\n",
    "open('image_predictions.tsv', 'wb').write(img.content)\n",
    "\n",
    "img_df = pd.read_csv('image_predictions.tsv', sep='\\t')"
   ]
  },
  {
   "cell_type": "markdown",
   "metadata": {},
   "source": [
    "3. Use the Tweepy library to query additional data via the Twitter API (tweet_json.txt)"
   ]
  },
  {
   "cell_type": "code",
   "execution_count": 4,
   "metadata": {},
   "outputs": [],
   "source": [
    "# import tweepy\n",
    "# from tweepy import OAuthHandler\n",
    "# import json\n",
    "# from timeit import default_timer as timer\n",
    "\n",
    "# # Query Twitter API for each tweet in the Twitter archive and save JSON in a text file\n",
    "# # These are hidden to comply with Twitter's API terms and conditions\n",
    "# consumer_key = 'HIDDEN'\n",
    "# consumer_secret = 'HIDDEN'\n",
    "# access_token = 'HIDDEN'\n",
    "# access_secret = 'HIDDEN'\n",
    "\n",
    "# auth = OAuthHandler(consumer_key, consumer_secret)\n",
    "# auth.set_access_token(access_token, access_secret)\n",
    "\n",
    "# api = tweepy.API(auth, wait_on_rate_limit=True)\n",
    "\n",
    "# # NOTE TO STUDENT WITH MOBILE VERIFICATION ISSUES:\n",
    "# # df_1 is a DataFrame with the twitter_archive_enhanced.csv file. You may have to\n",
    "# # change line 17 to match the name of your DataFrame with twitter_archive_enhanced.csv\n",
    "# # NOTE TO REVIEWER: this student had mobile verification issues so the following\n",
    "# # Twitter API code was sent to this student from a Udacity instructor\n",
    "# # Tweet IDs for which to gather additional data via Twitter's API\n",
    "# tweet_ids = df_1.tweet_id.values\n",
    "# len(tweet_ids)\n",
    "\n",
    "# # Query Twitter's API for JSON data for each tweet ID in the Twitter archive\n",
    "# count = 0\n",
    "# fails_dict = {}\n",
    "# start = timer()\n",
    "# # Save each tweet's returned JSON as a new line in a .txt file\n",
    "# with open('tweet_json.txt', 'w') as outfile:\n",
    "#     # This loop will likely take 20-30 minutes to run because of Twitter's rate limit\n",
    "#     for tweet_id in tweet_ids:\n",
    "#         count += 1\n",
    "#         print(str(count) + \": \" + str(tweet_id))\n",
    "#         try:\n",
    "#             tweet = api.get_status(tweet_id, tweet_mode='extended')\n",
    "#             print(\"Success\")\n",
    "#             json.dump(tweet._json, outfile)\n",
    "#             outfile.write('\\n')\n",
    "#         except tweepy.TweepError as e:\n",
    "#             print(\"Fail\")\n",
    "#             fails_dict[tweet_id] = e\n",
    "#             pass\n",
    "# end = timer()\n",
    "# print(end - start)\n",
    "# print(fails_dict)"
   ]
  },
  {
   "cell_type": "code",
   "execution_count": 5,
   "metadata": {},
   "outputs": [],
   "source": [
    "import json\n",
    "\n",
    "# reading the tweet_json text file\n",
    "tweet_list = []\n",
    "\n",
    "with open('tweet-json.txt') as json_file:\n",
    "    for l in json_file:\n",
    "        tweet_dict = {}\n",
    "        tweet_json = json.loads(l)\n",
    "        \n",
    "        try: \n",
    "            tweet_dict['tweet_id'] = tweet_json['extended_entities']['media'][0]['id']\n",
    "        except:\n",
    "            tweet_dict['tweet_id'] = 'nil'\n",
    "            \n",
    "        tweet_dict['retweet_count'] = tweet_json['retweet_count']\n",
    "        tweet_dict['fav_count'] = tweet_json['favorite_count']\n",
    "        \n",
    "        tweet_list.append(tweet_dict)\n",
    "    \n",
    "tweet_df = pd.DataFrame(tweet_list)[['tweet_id', 'retweet_count', 'fav_count']]"
   ]
  },
  {
   "cell_type": "markdown",
   "metadata": {
    "extensions": {
     "jupyter_dashboards": {
      "version": 1,
      "views": {
       "grid_default": {
        "col": 4,
        "height": 4,
        "hidden": false,
        "row": 28,
        "width": 4
       },
       "report_default": {
        "hidden": false
       }
      }
     }
    }
   },
   "source": [
    "## Assessing Data of our datasets"
   ]
  },
  {
   "cell_type": "markdown",
   "metadata": {},
   "source": [
    "### We will now do a quick assessment of the three datasets we have gathered earlier\n",
    "They are:\n",
    "1. image_prediction\n",
    "2. twitter-archive-enhanced\n",
    "3. tweet-json\n"
   ]
  },
  {
   "cell_type": "code",
   "execution_count": 6,
   "metadata": {
    "scrolled": true
   },
   "outputs": [],
   "source": [
    "# first we define a function for high level summary exploration\n",
    "def summary(df: pd.DataFrame) -> pd.DataFrame:\n",
    "    \"\"\"\n",
    "    Returns the data type, # of null rows and unique rows of a given dataframe\n",
    "    \n",
    "    Args: \n",
    "        A dataframe of n_rows and n_columns\n",
    "    Returns:\n",
    "        A dataframe of 4 columns [data_type, non-null-rows, unique_rows, missing_rows]\n",
    "    \"\"\"\n",
    "    concat = pd.concat(\n",
    "        [df.dtypes.to_frame(), df.count().to_frame(), df.nunique(), df.isnull().sum()], axis=1\n",
    "    )\n",
    "    concat.columns = ['data_type', 'non-null-rows', 'unique_rows', 'missing_rows']\n",
    "    return concat"
   ]
  },
  {
   "cell_type": "markdown",
   "metadata": {},
   "source": [
    "We will new investigate the following datasets."
   ]
  },
  {
   "cell_type": "code",
   "execution_count": 7,
   "metadata": {
    "scrolled": false
   },
   "outputs": [
    {
     "data": {
      "text/html": [
       "<div>\n",
       "<style scoped>\n",
       "    .dataframe tbody tr th:only-of-type {\n",
       "        vertical-align: middle;\n",
       "    }\n",
       "\n",
       "    .dataframe tbody tr th {\n",
       "        vertical-align: top;\n",
       "    }\n",
       "\n",
       "    .dataframe thead th {\n",
       "        text-align: right;\n",
       "    }\n",
       "</style>\n",
       "<table border=\"1\" class=\"dataframe\">\n",
       "  <thead>\n",
       "    <tr style=\"text-align: right;\">\n",
       "      <th></th>\n",
       "      <th>data_type</th>\n",
       "      <th>non-null-rows</th>\n",
       "      <th>unique_rows</th>\n",
       "      <th>missing_rows</th>\n",
       "    </tr>\n",
       "  </thead>\n",
       "  <tbody>\n",
       "    <tr>\n",
       "      <th>tweet_id</th>\n",
       "      <td>int64</td>\n",
       "      <td>2356</td>\n",
       "      <td>2356</td>\n",
       "      <td>0</td>\n",
       "    </tr>\n",
       "    <tr>\n",
       "      <th>in_reply_to_status_id</th>\n",
       "      <td>float64</td>\n",
       "      <td>78</td>\n",
       "      <td>77</td>\n",
       "      <td>2278</td>\n",
       "    </tr>\n",
       "    <tr>\n",
       "      <th>in_reply_to_user_id</th>\n",
       "      <td>float64</td>\n",
       "      <td>78</td>\n",
       "      <td>31</td>\n",
       "      <td>2278</td>\n",
       "    </tr>\n",
       "    <tr>\n",
       "      <th>timestamp</th>\n",
       "      <td>object</td>\n",
       "      <td>2356</td>\n",
       "      <td>2356</td>\n",
       "      <td>0</td>\n",
       "    </tr>\n",
       "    <tr>\n",
       "      <th>source</th>\n",
       "      <td>object</td>\n",
       "      <td>2356</td>\n",
       "      <td>4</td>\n",
       "      <td>0</td>\n",
       "    </tr>\n",
       "    <tr>\n",
       "      <th>text</th>\n",
       "      <td>object</td>\n",
       "      <td>2356</td>\n",
       "      <td>2356</td>\n",
       "      <td>0</td>\n",
       "    </tr>\n",
       "    <tr>\n",
       "      <th>retweeted_status_id</th>\n",
       "      <td>float64</td>\n",
       "      <td>181</td>\n",
       "      <td>181</td>\n",
       "      <td>2175</td>\n",
       "    </tr>\n",
       "    <tr>\n",
       "      <th>retweeted_status_user_id</th>\n",
       "      <td>float64</td>\n",
       "      <td>181</td>\n",
       "      <td>25</td>\n",
       "      <td>2175</td>\n",
       "    </tr>\n",
       "    <tr>\n",
       "      <th>retweeted_status_timestamp</th>\n",
       "      <td>object</td>\n",
       "      <td>181</td>\n",
       "      <td>181</td>\n",
       "      <td>2175</td>\n",
       "    </tr>\n",
       "    <tr>\n",
       "      <th>expanded_urls</th>\n",
       "      <td>object</td>\n",
       "      <td>2297</td>\n",
       "      <td>2218</td>\n",
       "      <td>59</td>\n",
       "    </tr>\n",
       "    <tr>\n",
       "      <th>rating_numerator</th>\n",
       "      <td>int64</td>\n",
       "      <td>2356</td>\n",
       "      <td>40</td>\n",
       "      <td>0</td>\n",
       "    </tr>\n",
       "    <tr>\n",
       "      <th>rating_denominator</th>\n",
       "      <td>int64</td>\n",
       "      <td>2356</td>\n",
       "      <td>18</td>\n",
       "      <td>0</td>\n",
       "    </tr>\n",
       "    <tr>\n",
       "      <th>name</th>\n",
       "      <td>object</td>\n",
       "      <td>2356</td>\n",
       "      <td>957</td>\n",
       "      <td>0</td>\n",
       "    </tr>\n",
       "    <tr>\n",
       "      <th>doggo</th>\n",
       "      <td>object</td>\n",
       "      <td>2356</td>\n",
       "      <td>2</td>\n",
       "      <td>0</td>\n",
       "    </tr>\n",
       "    <tr>\n",
       "      <th>floofer</th>\n",
       "      <td>object</td>\n",
       "      <td>2356</td>\n",
       "      <td>2</td>\n",
       "      <td>0</td>\n",
       "    </tr>\n",
       "    <tr>\n",
       "      <th>pupper</th>\n",
       "      <td>object</td>\n",
       "      <td>2356</td>\n",
       "      <td>2</td>\n",
       "      <td>0</td>\n",
       "    </tr>\n",
       "    <tr>\n",
       "      <th>puppo</th>\n",
       "      <td>object</td>\n",
       "      <td>2356</td>\n",
       "      <td>2</td>\n",
       "      <td>0</td>\n",
       "    </tr>\n",
       "  </tbody>\n",
       "</table>\n",
       "</div>"
      ],
      "text/plain": [
       "                           data_type  non-null-rows  unique_rows  missing_rows\n",
       "tweet_id                       int64           2356         2356             0\n",
       "in_reply_to_status_id        float64             78           77          2278\n",
       "in_reply_to_user_id          float64             78           31          2278\n",
       "timestamp                     object           2356         2356             0\n",
       "source                        object           2356            4             0\n",
       "text                          object           2356         2356             0\n",
       "retweeted_status_id          float64            181          181          2175\n",
       "retweeted_status_user_id     float64            181           25          2175\n",
       "retweeted_status_timestamp    object            181          181          2175\n",
       "expanded_urls                 object           2297         2218            59\n",
       "rating_numerator               int64           2356           40             0\n",
       "rating_denominator             int64           2356           18             0\n",
       "name                          object           2356          957             0\n",
       "doggo                         object           2356            2             0\n",
       "floofer                       object           2356            2             0\n",
       "pupper                        object           2356            2             0\n",
       "puppo                         object           2356            2             0"
      ]
     },
     "execution_count": 7,
     "metadata": {},
     "output_type": "execute_result"
    }
   ],
   "source": [
    "# twitter-archive-enhanced\n",
    "summary(wrd_df)"
   ]
  },
  {
   "cell_type": "code",
   "execution_count": 8,
   "metadata": {},
   "outputs": [
    {
     "data": {
      "text/html": [
       "<div>\n",
       "<style scoped>\n",
       "    .dataframe tbody tr th:only-of-type {\n",
       "        vertical-align: middle;\n",
       "    }\n",
       "\n",
       "    .dataframe tbody tr th {\n",
       "        vertical-align: top;\n",
       "    }\n",
       "\n",
       "    .dataframe thead th {\n",
       "        text-align: right;\n",
       "    }\n",
       "</style>\n",
       "<table border=\"1\" class=\"dataframe\">\n",
       "  <thead>\n",
       "    <tr style=\"text-align: right;\">\n",
       "      <th></th>\n",
       "      <th>tweet_id</th>\n",
       "      <th>in_reply_to_status_id</th>\n",
       "      <th>in_reply_to_user_id</th>\n",
       "      <th>timestamp</th>\n",
       "      <th>source</th>\n",
       "      <th>text</th>\n",
       "      <th>retweeted_status_id</th>\n",
       "      <th>retweeted_status_user_id</th>\n",
       "      <th>retweeted_status_timestamp</th>\n",
       "      <th>expanded_urls</th>\n",
       "      <th>rating_numerator</th>\n",
       "      <th>rating_denominator</th>\n",
       "      <th>name</th>\n",
       "      <th>doggo</th>\n",
       "      <th>floofer</th>\n",
       "      <th>pupper</th>\n",
       "      <th>puppo</th>\n",
       "    </tr>\n",
       "  </thead>\n",
       "  <tbody>\n",
       "    <tr>\n",
       "      <th>1155</th>\n",
       "      <td>724983749226668032</td>\n",
       "      <td>NaN</td>\n",
       "      <td>NaN</td>\n",
       "      <td>2016-04-26 15:29:30 +0000</td>\n",
       "      <td>&lt;a href=\"http://twitter.com/download/iphone\" r...</td>\n",
       "      <td>This is Fred-Rick. He dabbles in parkour. The ...</td>\n",
       "      <td>NaN</td>\n",
       "      <td>NaN</td>\n",
       "      <td>NaN</td>\n",
       "      <td>https://twitter.com/dog_rates/status/724983749...</td>\n",
       "      <td>12</td>\n",
       "      <td>10</td>\n",
       "      <td>Fred</td>\n",
       "      <td>None</td>\n",
       "      <td>None</td>\n",
       "      <td>None</td>\n",
       "      <td>None</td>\n",
       "    </tr>\n",
       "    <tr>\n",
       "      <th>1489</th>\n",
       "      <td>692905862751522816</td>\n",
       "      <td>NaN</td>\n",
       "      <td>NaN</td>\n",
       "      <td>2016-01-29 03:03:25 +0000</td>\n",
       "      <td>&lt;a href=\"http://twitter.com/download/iphone\" r...</td>\n",
       "      <td>This is Wally. He's being abducted by aliens. ...</td>\n",
       "      <td>NaN</td>\n",
       "      <td>NaN</td>\n",
       "      <td>NaN</td>\n",
       "      <td>https://twitter.com/dog_rates/status/692905862...</td>\n",
       "      <td>10</td>\n",
       "      <td>10</td>\n",
       "      <td>Wally</td>\n",
       "      <td>None</td>\n",
       "      <td>None</td>\n",
       "      <td>pupper</td>\n",
       "      <td>None</td>\n",
       "    </tr>\n",
       "    <tr>\n",
       "      <th>1513</th>\n",
       "      <td>691096613310316544</td>\n",
       "      <td>NaN</td>\n",
       "      <td>NaN</td>\n",
       "      <td>2016-01-24 03:14:07 +0000</td>\n",
       "      <td>&lt;a href=\"http://twitter.com/download/iphone\" r...</td>\n",
       "      <td>Here we see one dog giving a puptalk to anothe...</td>\n",
       "      <td>NaN</td>\n",
       "      <td>NaN</td>\n",
       "      <td>NaN</td>\n",
       "      <td>https://twitter.com/dog_rates/status/691096613...</td>\n",
       "      <td>11</td>\n",
       "      <td>10</td>\n",
       "      <td>None</td>\n",
       "      <td>None</td>\n",
       "      <td>None</td>\n",
       "      <td>None</td>\n",
       "      <td>None</td>\n",
       "    </tr>\n",
       "    <tr>\n",
       "      <th>1914</th>\n",
       "      <td>674330906434379776</td>\n",
       "      <td>6.658147e+17</td>\n",
       "      <td>16374678.0</td>\n",
       "      <td>2015-12-08 20:53:11 +0000</td>\n",
       "      <td>&lt;a href=\"http://twitter.com/download/iphone\" r...</td>\n",
       "      <td>13/10\\n@ABC7</td>\n",
       "      <td>NaN</td>\n",
       "      <td>NaN</td>\n",
       "      <td>NaN</td>\n",
       "      <td>NaN</td>\n",
       "      <td>13</td>\n",
       "      <td>10</td>\n",
       "      <td>None</td>\n",
       "      <td>None</td>\n",
       "      <td>None</td>\n",
       "      <td>None</td>\n",
       "      <td>None</td>\n",
       "    </tr>\n",
       "    <tr>\n",
       "      <th>357</th>\n",
       "      <td>830173239259324417</td>\n",
       "      <td>NaN</td>\n",
       "      <td>NaN</td>\n",
       "      <td>2017-02-10 21:54:58 +0000</td>\n",
       "      <td>&lt;a href=\"http://twitter.com/download/iphone\" r...</td>\n",
       "      <td>RT @dog_rates: This is Kyro. He's a Stratocumu...</td>\n",
       "      <td>8.092201e+17</td>\n",
       "      <td>4.196984e+09</td>\n",
       "      <td>2016-12-15 02:14:29 +0000</td>\n",
       "      <td>https://twitter.com/dog_rates/status/809220051...</td>\n",
       "      <td>12</td>\n",
       "      <td>10</td>\n",
       "      <td>Kyro</td>\n",
       "      <td>None</td>\n",
       "      <td>None</td>\n",
       "      <td>None</td>\n",
       "      <td>None</td>\n",
       "    </tr>\n",
       "  </tbody>\n",
       "</table>\n",
       "</div>"
      ],
      "text/plain": [
       "                tweet_id  in_reply_to_status_id  in_reply_to_user_id  \\\n",
       "1155  724983749226668032                    NaN                  NaN   \n",
       "1489  692905862751522816                    NaN                  NaN   \n",
       "1513  691096613310316544                    NaN                  NaN   \n",
       "1914  674330906434379776           6.658147e+17           16374678.0   \n",
       "357   830173239259324417                    NaN                  NaN   \n",
       "\n",
       "                      timestamp  \\\n",
       "1155  2016-04-26 15:29:30 +0000   \n",
       "1489  2016-01-29 03:03:25 +0000   \n",
       "1513  2016-01-24 03:14:07 +0000   \n",
       "1914  2015-12-08 20:53:11 +0000   \n",
       "357   2017-02-10 21:54:58 +0000   \n",
       "\n",
       "                                                 source  \\\n",
       "1155  <a href=\"http://twitter.com/download/iphone\" r...   \n",
       "1489  <a href=\"http://twitter.com/download/iphone\" r...   \n",
       "1513  <a href=\"http://twitter.com/download/iphone\" r...   \n",
       "1914  <a href=\"http://twitter.com/download/iphone\" r...   \n",
       "357   <a href=\"http://twitter.com/download/iphone\" r...   \n",
       "\n",
       "                                                   text  retweeted_status_id  \\\n",
       "1155  This is Fred-Rick. He dabbles in parkour. The ...                  NaN   \n",
       "1489  This is Wally. He's being abducted by aliens. ...                  NaN   \n",
       "1513  Here we see one dog giving a puptalk to anothe...                  NaN   \n",
       "1914                                       13/10\\n@ABC7                  NaN   \n",
       "357   RT @dog_rates: This is Kyro. He's a Stratocumu...         8.092201e+17   \n",
       "\n",
       "      retweeted_status_user_id retweeted_status_timestamp  \\\n",
       "1155                       NaN                        NaN   \n",
       "1489                       NaN                        NaN   \n",
       "1513                       NaN                        NaN   \n",
       "1914                       NaN                        NaN   \n",
       "357               4.196984e+09  2016-12-15 02:14:29 +0000   \n",
       "\n",
       "                                          expanded_urls  rating_numerator  \\\n",
       "1155  https://twitter.com/dog_rates/status/724983749...                12   \n",
       "1489  https://twitter.com/dog_rates/status/692905862...                10   \n",
       "1513  https://twitter.com/dog_rates/status/691096613...                11   \n",
       "1914                                                NaN                13   \n",
       "357   https://twitter.com/dog_rates/status/809220051...                12   \n",
       "\n",
       "      rating_denominator   name doggo floofer  pupper puppo  \n",
       "1155                  10   Fred  None    None    None  None  \n",
       "1489                  10  Wally  None    None  pupper  None  \n",
       "1513                  10   None  None    None    None  None  \n",
       "1914                  10   None  None    None    None  None  \n",
       "357                   10   Kyro  None    None    None  None  "
      ]
     },
     "execution_count": 8,
     "metadata": {},
     "output_type": "execute_result"
    }
   ],
   "source": [
    "wrd_df.sample(5)"
   ]
  },
  {
   "cell_type": "code",
   "execution_count": 9,
   "metadata": {},
   "outputs": [
    {
     "data": {
      "text/html": [
       "<div>\n",
       "<style scoped>\n",
       "    .dataframe tbody tr th:only-of-type {\n",
       "        vertical-align: middle;\n",
       "    }\n",
       "\n",
       "    .dataframe tbody tr th {\n",
       "        vertical-align: top;\n",
       "    }\n",
       "\n",
       "    .dataframe thead th {\n",
       "        text-align: right;\n",
       "    }\n",
       "</style>\n",
       "<table border=\"1\" class=\"dataframe\">\n",
       "  <thead>\n",
       "    <tr style=\"text-align: right;\">\n",
       "      <th></th>\n",
       "      <th>data_type</th>\n",
       "      <th>non-null-rows</th>\n",
       "      <th>unique_rows</th>\n",
       "      <th>missing_rows</th>\n",
       "    </tr>\n",
       "  </thead>\n",
       "  <tbody>\n",
       "    <tr>\n",
       "      <th>tweet_id</th>\n",
       "      <td>int64</td>\n",
       "      <td>2075</td>\n",
       "      <td>2075</td>\n",
       "      <td>0</td>\n",
       "    </tr>\n",
       "    <tr>\n",
       "      <th>jpg_url</th>\n",
       "      <td>object</td>\n",
       "      <td>2075</td>\n",
       "      <td>2009</td>\n",
       "      <td>0</td>\n",
       "    </tr>\n",
       "    <tr>\n",
       "      <th>img_num</th>\n",
       "      <td>int64</td>\n",
       "      <td>2075</td>\n",
       "      <td>4</td>\n",
       "      <td>0</td>\n",
       "    </tr>\n",
       "    <tr>\n",
       "      <th>p1</th>\n",
       "      <td>object</td>\n",
       "      <td>2075</td>\n",
       "      <td>378</td>\n",
       "      <td>0</td>\n",
       "    </tr>\n",
       "    <tr>\n",
       "      <th>p1_conf</th>\n",
       "      <td>float64</td>\n",
       "      <td>2075</td>\n",
       "      <td>2006</td>\n",
       "      <td>0</td>\n",
       "    </tr>\n",
       "    <tr>\n",
       "      <th>p1_dog</th>\n",
       "      <td>bool</td>\n",
       "      <td>2075</td>\n",
       "      <td>2</td>\n",
       "      <td>0</td>\n",
       "    </tr>\n",
       "    <tr>\n",
       "      <th>p2</th>\n",
       "      <td>object</td>\n",
       "      <td>2075</td>\n",
       "      <td>405</td>\n",
       "      <td>0</td>\n",
       "    </tr>\n",
       "    <tr>\n",
       "      <th>p2_conf</th>\n",
       "      <td>float64</td>\n",
       "      <td>2075</td>\n",
       "      <td>2004</td>\n",
       "      <td>0</td>\n",
       "    </tr>\n",
       "    <tr>\n",
       "      <th>p2_dog</th>\n",
       "      <td>bool</td>\n",
       "      <td>2075</td>\n",
       "      <td>2</td>\n",
       "      <td>0</td>\n",
       "    </tr>\n",
       "    <tr>\n",
       "      <th>p3</th>\n",
       "      <td>object</td>\n",
       "      <td>2075</td>\n",
       "      <td>408</td>\n",
       "      <td>0</td>\n",
       "    </tr>\n",
       "    <tr>\n",
       "      <th>p3_conf</th>\n",
       "      <td>float64</td>\n",
       "      <td>2075</td>\n",
       "      <td>2006</td>\n",
       "      <td>0</td>\n",
       "    </tr>\n",
       "    <tr>\n",
       "      <th>p3_dog</th>\n",
       "      <td>bool</td>\n",
       "      <td>2075</td>\n",
       "      <td>2</td>\n",
       "      <td>0</td>\n",
       "    </tr>\n",
       "  </tbody>\n",
       "</table>\n",
       "</div>"
      ],
      "text/plain": [
       "         data_type  non-null-rows  unique_rows  missing_rows\n",
       "tweet_id     int64           2075         2075             0\n",
       "jpg_url     object           2075         2009             0\n",
       "img_num      int64           2075            4             0\n",
       "p1          object           2075          378             0\n",
       "p1_conf    float64           2075         2006             0\n",
       "p1_dog        bool           2075            2             0\n",
       "p2          object           2075          405             0\n",
       "p2_conf    float64           2075         2004             0\n",
       "p2_dog        bool           2075            2             0\n",
       "p3          object           2075          408             0\n",
       "p3_conf    float64           2075         2006             0\n",
       "p3_dog        bool           2075            2             0"
      ]
     },
     "execution_count": 9,
     "metadata": {},
     "output_type": "execute_result"
    }
   ],
   "source": [
    "# image prediction\n",
    "summary(img_df)"
   ]
  },
  {
   "cell_type": "code",
   "execution_count": 10,
   "metadata": {},
   "outputs": [
    {
     "data": {
      "text/html": [
       "<div>\n",
       "<style scoped>\n",
       "    .dataframe tbody tr th:only-of-type {\n",
       "        vertical-align: middle;\n",
       "    }\n",
       "\n",
       "    .dataframe tbody tr th {\n",
       "        vertical-align: top;\n",
       "    }\n",
       "\n",
       "    .dataframe thead th {\n",
       "        text-align: right;\n",
       "    }\n",
       "</style>\n",
       "<table border=\"1\" class=\"dataframe\">\n",
       "  <thead>\n",
       "    <tr style=\"text-align: right;\">\n",
       "      <th></th>\n",
       "      <th>tweet_id</th>\n",
       "      <th>jpg_url</th>\n",
       "      <th>img_num</th>\n",
       "      <th>p1</th>\n",
       "      <th>p1_conf</th>\n",
       "      <th>p1_dog</th>\n",
       "      <th>p2</th>\n",
       "      <th>p2_conf</th>\n",
       "      <th>p2_dog</th>\n",
       "      <th>p3</th>\n",
       "      <th>p3_conf</th>\n",
       "      <th>p3_dog</th>\n",
       "    </tr>\n",
       "  </thead>\n",
       "  <tbody>\n",
       "    <tr>\n",
       "      <th>1166</th>\n",
       "      <td>735635087207878657</td>\n",
       "      <td>https://pbs.twimg.com/media/CjWANBlVAAAaN-a.jpg</td>\n",
       "      <td>1</td>\n",
       "      <td>pug</td>\n",
       "      <td>0.891871</td>\n",
       "      <td>True</td>\n",
       "      <td>goose</td>\n",
       "      <td>0.014377</td>\n",
       "      <td>False</td>\n",
       "      <td>fur_coat</td>\n",
       "      <td>0.008451</td>\n",
       "      <td>False</td>\n",
       "    </tr>\n",
       "    <tr>\n",
       "      <th>1440</th>\n",
       "      <td>774757898236878852</td>\n",
       "      <td>https://pbs.twimg.com/media/CsB-MYiXgAEQU20.jpg</td>\n",
       "      <td>1</td>\n",
       "      <td>toy_poodle</td>\n",
       "      <td>0.719941</td>\n",
       "      <td>True</td>\n",
       "      <td>miniature_poodle</td>\n",
       "      <td>0.251546</td>\n",
       "      <td>True</td>\n",
       "      <td>Lakeland_terrier</td>\n",
       "      <td>0.007008</td>\n",
       "      <td>True</td>\n",
       "    </tr>\n",
       "    <tr>\n",
       "      <th>1380</th>\n",
       "      <td>765222098633691136</td>\n",
       "      <td>https://pbs.twimg.com/media/Cp6db4-XYAAMmqL.jpg</td>\n",
       "      <td>1</td>\n",
       "      <td>dalmatian</td>\n",
       "      <td>0.556595</td>\n",
       "      <td>True</td>\n",
       "      <td>whippet</td>\n",
       "      <td>0.151047</td>\n",
       "      <td>True</td>\n",
       "      <td>American_Staffordshire_terrier</td>\n",
       "      <td>0.096435</td>\n",
       "      <td>True</td>\n",
       "    </tr>\n",
       "    <tr>\n",
       "      <th>853</th>\n",
       "      <td>696405997980676096</td>\n",
       "      <td>https://pbs.twimg.com/media/Caohi_hWcAAQCni.jpg</td>\n",
       "      <td>1</td>\n",
       "      <td>borzoi</td>\n",
       "      <td>0.132845</td>\n",
       "      <td>True</td>\n",
       "      <td>Walker_hound</td>\n",
       "      <td>0.086005</td>\n",
       "      <td>True</td>\n",
       "      <td>Great_Pyrenees</td>\n",
       "      <td>0.065582</td>\n",
       "      <td>True</td>\n",
       "    </tr>\n",
       "    <tr>\n",
       "      <th>213</th>\n",
       "      <td>670040295598354432</td>\n",
       "      <td>https://pbs.twimg.com/media/CUx2F6lVEAAvFev.jpg</td>\n",
       "      <td>1</td>\n",
       "      <td>web_site</td>\n",
       "      <td>0.901552</td>\n",
       "      <td>False</td>\n",
       "      <td>borzoi</td>\n",
       "      <td>0.026660</td>\n",
       "      <td>True</td>\n",
       "      <td>Chihuahua</td>\n",
       "      <td>0.012438</td>\n",
       "      <td>True</td>\n",
       "    </tr>\n",
       "  </tbody>\n",
       "</table>\n",
       "</div>"
      ],
      "text/plain": [
       "                tweet_id                                          jpg_url  \\\n",
       "1166  735635087207878657  https://pbs.twimg.com/media/CjWANBlVAAAaN-a.jpg   \n",
       "1440  774757898236878852  https://pbs.twimg.com/media/CsB-MYiXgAEQU20.jpg   \n",
       "1380  765222098633691136  https://pbs.twimg.com/media/Cp6db4-XYAAMmqL.jpg   \n",
       "853   696405997980676096  https://pbs.twimg.com/media/Caohi_hWcAAQCni.jpg   \n",
       "213   670040295598354432  https://pbs.twimg.com/media/CUx2F6lVEAAvFev.jpg   \n",
       "\n",
       "      img_num          p1   p1_conf  p1_dog                p2   p2_conf  \\\n",
       "1166        1         pug  0.891871    True             goose  0.014377   \n",
       "1440        1  toy_poodle  0.719941    True  miniature_poodle  0.251546   \n",
       "1380        1   dalmatian  0.556595    True           whippet  0.151047   \n",
       "853         1      borzoi  0.132845    True      Walker_hound  0.086005   \n",
       "213         1    web_site  0.901552   False            borzoi  0.026660   \n",
       "\n",
       "      p2_dog                              p3   p3_conf  p3_dog  \n",
       "1166   False                        fur_coat  0.008451   False  \n",
       "1440    True                Lakeland_terrier  0.007008    True  \n",
       "1380    True  American_Staffordshire_terrier  0.096435    True  \n",
       "853     True                  Great_Pyrenees  0.065582    True  \n",
       "213     True                       Chihuahua  0.012438    True  "
      ]
     },
     "execution_count": 10,
     "metadata": {},
     "output_type": "execute_result"
    }
   ],
   "source": [
    "img_df.sample(5)"
   ]
  },
  {
   "cell_type": "code",
   "execution_count": 11,
   "metadata": {
    "scrolled": true
   },
   "outputs": [
    {
     "data": {
      "text/html": [
       "<div>\n",
       "<style scoped>\n",
       "    .dataframe tbody tr th:only-of-type {\n",
       "        vertical-align: middle;\n",
       "    }\n",
       "\n",
       "    .dataframe tbody tr th {\n",
       "        vertical-align: top;\n",
       "    }\n",
       "\n",
       "    .dataframe thead th {\n",
       "        text-align: right;\n",
       "    }\n",
       "</style>\n",
       "<table border=\"1\" class=\"dataframe\">\n",
       "  <thead>\n",
       "    <tr style=\"text-align: right;\">\n",
       "      <th></th>\n",
       "      <th>data_type</th>\n",
       "      <th>non-null-rows</th>\n",
       "      <th>unique_rows</th>\n",
       "      <th>missing_rows</th>\n",
       "    </tr>\n",
       "  </thead>\n",
       "  <tbody>\n",
       "    <tr>\n",
       "      <th>tweet_id</th>\n",
       "      <td>object</td>\n",
       "      <td>2354</td>\n",
       "      <td>2009</td>\n",
       "      <td>0</td>\n",
       "    </tr>\n",
       "    <tr>\n",
       "      <th>retweet_count</th>\n",
       "      <td>int64</td>\n",
       "      <td>2354</td>\n",
       "      <td>1724</td>\n",
       "      <td>0</td>\n",
       "    </tr>\n",
       "    <tr>\n",
       "      <th>fav_count</th>\n",
       "      <td>int64</td>\n",
       "      <td>2354</td>\n",
       "      <td>2007</td>\n",
       "      <td>0</td>\n",
       "    </tr>\n",
       "  </tbody>\n",
       "</table>\n",
       "</div>"
      ],
      "text/plain": [
       "              data_type  non-null-rows  unique_rows  missing_rows\n",
       "tweet_id         object           2354         2009             0\n",
       "retweet_count     int64           2354         1724             0\n",
       "fav_count         int64           2354         2007             0"
      ]
     },
     "execution_count": 11,
     "metadata": {},
     "output_type": "execute_result"
    }
   ],
   "source": [
    "# twitter dataset\n",
    "summary(tweet_df)"
   ]
  },
  {
   "cell_type": "code",
   "execution_count": 12,
   "metadata": {},
   "outputs": [
    {
     "data": {
      "text/html": [
       "<div>\n",
       "<style scoped>\n",
       "    .dataframe tbody tr th:only-of-type {\n",
       "        vertical-align: middle;\n",
       "    }\n",
       "\n",
       "    .dataframe tbody tr th {\n",
       "        vertical-align: top;\n",
       "    }\n",
       "\n",
       "    .dataframe thead th {\n",
       "        text-align: right;\n",
       "    }\n",
       "</style>\n",
       "<table border=\"1\" class=\"dataframe\">\n",
       "  <thead>\n",
       "    <tr style=\"text-align: right;\">\n",
       "      <th></th>\n",
       "      <th>tweet_id</th>\n",
       "      <th>retweet_count</th>\n",
       "      <th>fav_count</th>\n",
       "    </tr>\n",
       "  </thead>\n",
       "  <tbody>\n",
       "    <tr>\n",
       "      <th>5</th>\n",
       "      <td>891087942176911360</td>\n",
       "      <td>3261</td>\n",
       "      <td>20562</td>\n",
       "    </tr>\n",
       "    <tr>\n",
       "      <th>698</th>\n",
       "      <td>nil</td>\n",
       "      <td>3352</td>\n",
       "      <td>8930</td>\n",
       "    </tr>\n",
       "    <tr>\n",
       "      <th>1723</th>\n",
       "      <td>679935050679468032</td>\n",
       "      <td>994</td>\n",
       "      <td>2818</td>\n",
       "    </tr>\n",
       "    <tr>\n",
       "      <th>655</th>\n",
       "      <td>nil</td>\n",
       "      <td>4432</td>\n",
       "      <td>0</td>\n",
       "    </tr>\n",
       "    <tr>\n",
       "      <th>421</th>\n",
       "      <td>780601293052190720</td>\n",
       "      <td>3839</td>\n",
       "      <td>0</td>\n",
       "    </tr>\n",
       "  </tbody>\n",
       "</table>\n",
       "</div>"
      ],
      "text/plain": [
       "                tweet_id  retweet_count  fav_count\n",
       "5     891087942176911360           3261      20562\n",
       "698                  nil           3352       8930\n",
       "1723  679935050679468032            994       2818\n",
       "655                  nil           4432          0\n",
       "421   780601293052190720           3839          0"
      ]
     },
     "execution_count": 12,
     "metadata": {},
     "output_type": "execute_result"
    }
   ],
   "source": [
    "tweet_df.sample(5)"
   ]
  },
  {
   "cell_type": "markdown",
   "metadata": {},
   "source": [
    "### Quality issues\n",
    "1. **WeRateDogs dataset**: (Consistency) There are instances where the rating denominator is lower than the rating nominator, which should not be the case as the denominator should be the \"maximum\" rating.\n",
    "\n",
    "\n",
    "2. **WeRateDogs dataset**: (Consistency) There are some columns that represent the same thing but with slight variation (e.g, source & expanded_urls). \n",
    "\n",
    "\n",
    "3. **All Datasets**: (Consistency) Tweet_id data type is not standardized across all datasets (e.g, int64, int64, object)\n",
    "\n",
    "\n",
    "4. **WeRateDogs dataset**: (Accuracy) name column in the dataset, which we assume refers to the dog name is not very clean in a sense that there are names such as 'a' which might be an input error.\n",
    "\n",
    "\n",
    "5. **Image Prediction Dataset**: (Validity) There are columns named p1, p2, p3 which are all different predictions of objects/animals/dogs\n",
    "\n",
    "\n",
    "6. **WeRateDogs dataset**: (Accuracy) datatypes are not declared correctly for some columns (e.g, timestamp should be a datetime type rather than object)\n",
    "\n",
    "\n",
    "7. **Tweet-json dataset**: (Consistency) There are several rows of tweets without a tweet_id but have been assigned a 'nil' when we populated the json file into a dataframe previously\n",
    "\n",
    "\n",
    "8. **WeRateDogs dataset**: (Validity) After fixing the rating denominator, the old columns column will become redundant because the rating in the new column is relative to the other ratings\n",
    "\n",
    "\n",
    "9. Removing null rows in certain columns (e.g, retweeted_status_id, retweeted_status_user_id, retweeted_status_timestamp)"
   ]
  },
  {
   "cell_type": "markdown",
   "metadata": {
    "extensions": {
     "jupyter_dashboards": {
      "version": 1,
      "views": {
       "grid_default": {
        "col": 0,
        "height": 7,
        "hidden": false,
        "row": 40,
        "width": 12
       },
       "report_default": {
        "hidden": false
       }
      }
     }
    }
   },
   "source": [
    "### Tidiness/Structural issues\n",
    "1. **WeRateDogs dataset**: The 4 columns (i.e, dogoo, floofer, pupper & puppo), which refers to the dog stage is a single variable, and should be combined into a single column, however, currently it has been spread across 4 columns.\n",
    "\n",
    "2. **All Datasets** Has several redundant columns. Also, we can join these 3 tables together on tweet_id to reduce the need for redundant tables.\n"
   ]
  },
  {
   "cell_type": "markdown",
   "metadata": {
    "extensions": {
     "jupyter_dashboards": {
      "version": 1,
      "views": {
       "grid_default": {
        "col": 4,
        "height": 4,
        "hidden": false,
        "row": 32,
        "width": 4
       },
       "report_default": {
        "hidden": false
       }
      }
     }
    }
   },
   "source": [
    "## Cleaning Data\n",
    "In this section, clean **all** of the issues you documented while assessing. The issues will be cleaned in the following order.\n",
    "\n",
    "1. Quality issue #3 - consistency in dataset (tweet_id - int64, int64, object)\n",
    "2. Quality issue #7 - several rows of data do not have a tweet_id but have been assigned \"nil\"\n",
    "3. Tidiness/Structural Issue #2 - Combining all three tables into a master dataset"
   ]
  },
  {
   "cell_type": "code",
   "execution_count": 13,
   "metadata": {},
   "outputs": [],
   "source": [
    "## Making copies of original pieces of data\n",
    "wrd_clean = wrd_df.copy() # we rate dogs\n",
    "img_clean = img_df.copy() # prediction img \n",
    "tweet_clean = tweet_df.copy() # twitter fav/retweet"
   ]
  },
  {
   "cell_type": "markdown",
   "metadata": {},
   "source": [
    "### Issue #1: Redundant tables which can be joined together"
   ]
  },
  {
   "cell_type": "markdown",
   "metadata": {},
   "source": [
    "#### Define\n",
    "\n",
    "Issues resolved in this step:\n",
    "1. Quality issue #3 - consistency in dataset (tweet_id - int64, int64, object)\n",
    "2. Quality issue #7 - several rows of data do not have a tweet_id but have been assigned \"nil\"\n",
    "2. Tidiness/Structural Issue #2 - Combining all three tables into a master"
   ]
  },
  {
   "cell_type": "markdown",
   "metadata": {},
   "source": [
    "#### Code"
   ]
  },
  {
   "cell_type": "code",
   "execution_count": 14,
   "metadata": {
    "scrolled": true
   },
   "outputs": [
    {
     "name": "stdout",
     "output_type": "stream",
     "text": [
      "Index(['tweet_id', 'in_reply_to_status_id', 'in_reply_to_user_id', 'timestamp',\n",
      "       'source', 'text', 'retweeted_status_id', 'retweeted_status_user_id',\n",
      "       'retweeted_status_timestamp', 'expanded_urls', 'rating_numerator',\n",
      "       'rating_denominator', 'name', 'doggo', 'floofer', 'pupper', 'puppo'],\n",
      "      dtype='object')\n",
      "Index(['tweet_id', 'jpg_url', 'img_num', 'p1', 'p1_conf', 'p1_dog', 'p2',\n",
      "       'p2_conf', 'p2_dog', 'p3', 'p3_conf', 'p3_dog'],\n",
      "      dtype='object')\n",
      "Index(['tweet_id', 'retweet_count', 'fav_count'], dtype='object')\n"
     ]
    }
   ],
   "source": [
    "# investigating the columns of each dataframe\n",
    "print(f'{wrd_df.columns}\\n{img_df.columns}\\n{tweet_df.columns}')"
   ]
  },
  {
   "cell_type": "code",
   "execution_count": 15,
   "metadata": {
    "scrolled": true
   },
   "outputs": [
    {
     "data": {
      "text/html": [
       "<div>\n",
       "<style scoped>\n",
       "    .dataframe tbody tr th:only-of-type {\n",
       "        vertical-align: middle;\n",
       "    }\n",
       "\n",
       "    .dataframe tbody tr th {\n",
       "        vertical-align: top;\n",
       "    }\n",
       "\n",
       "    .dataframe thead th {\n",
       "        text-align: right;\n",
       "    }\n",
       "</style>\n",
       "<table border=\"1\" class=\"dataframe\">\n",
       "  <thead>\n",
       "    <tr style=\"text-align: right;\">\n",
       "      <th></th>\n",
       "      <th>tweet_id</th>\n",
       "      <th>in_reply_to_status_id</th>\n",
       "      <th>in_reply_to_user_id</th>\n",
       "      <th>timestamp</th>\n",
       "      <th>source</th>\n",
       "      <th>text</th>\n",
       "      <th>retweeted_status_id</th>\n",
       "      <th>retweeted_status_user_id</th>\n",
       "      <th>retweeted_status_timestamp</th>\n",
       "      <th>expanded_urls</th>\n",
       "      <th>...</th>\n",
       "      <th>p1_conf</th>\n",
       "      <th>p1_dog</th>\n",
       "      <th>p2</th>\n",
       "      <th>p2_conf</th>\n",
       "      <th>p2_dog</th>\n",
       "      <th>p3</th>\n",
       "      <th>p3_conf</th>\n",
       "      <th>p3_dog</th>\n",
       "      <th>retweet_count</th>\n",
       "      <th>fav_count</th>\n",
       "    </tr>\n",
       "  </thead>\n",
       "  <tbody>\n",
       "    <tr>\n",
       "      <th>1225</th>\n",
       "      <td>714141408463036416</td>\n",
       "      <td>NaN</td>\n",
       "      <td>NaN</td>\n",
       "      <td>2016-03-27 17:25:54 +0000</td>\n",
       "      <td>&lt;a href=\"http://twitter.com/download/iphone\" r...</td>\n",
       "      <td>I know we only rate dogs, but since it's Easte...</td>\n",
       "      <td>NaN</td>\n",
       "      <td>NaN</td>\n",
       "      <td>NaN</td>\n",
       "      <td>https://twitter.com/dog_rates/status/714141408...</td>\n",
       "      <td>...</td>\n",
       "      <td>0.586951</td>\n",
       "      <td>True</td>\n",
       "      <td>golden_retriever</td>\n",
       "      <td>0.378812</td>\n",
       "      <td>True</td>\n",
       "      <td>redbone</td>\n",
       "      <td>0.003605</td>\n",
       "      <td>True</td>\n",
       "      <td>NaN</td>\n",
       "      <td>NaN</td>\n",
       "    </tr>\n",
       "    <tr>\n",
       "      <th>1435</th>\n",
       "      <td>697259378236399616</td>\n",
       "      <td>NaN</td>\n",
       "      <td>NaN</td>\n",
       "      <td>2016-02-10 03:22:44 +0000</td>\n",
       "      <td>&lt;a href=\"http://twitter.com/download/iphone\" r...</td>\n",
       "      <td>Please stop sending in saber-toothed tigers. T...</td>\n",
       "      <td>NaN</td>\n",
       "      <td>NaN</td>\n",
       "      <td>NaN</td>\n",
       "      <td>https://twitter.com/dog_rates/status/697259378...</td>\n",
       "      <td>...</td>\n",
       "      <td>0.999223</td>\n",
       "      <td>True</td>\n",
       "      <td>boxer</td>\n",
       "      <td>0.000187</td>\n",
       "      <td>True</td>\n",
       "      <td>whippet</td>\n",
       "      <td>0.000151</td>\n",
       "      <td>True</td>\n",
       "      <td>NaN</td>\n",
       "      <td>NaN</td>\n",
       "    </tr>\n",
       "  </tbody>\n",
       "</table>\n",
       "<p>2 rows × 30 columns</p>\n",
       "</div>"
      ],
      "text/plain": [
       "                tweet_id  in_reply_to_status_id  in_reply_to_user_id  \\\n",
       "1225  714141408463036416                    NaN                  NaN   \n",
       "1435  697259378236399616                    NaN                  NaN   \n",
       "\n",
       "                      timestamp  \\\n",
       "1225  2016-03-27 17:25:54 +0000   \n",
       "1435  2016-02-10 03:22:44 +0000   \n",
       "\n",
       "                                                 source  \\\n",
       "1225  <a href=\"http://twitter.com/download/iphone\" r...   \n",
       "1435  <a href=\"http://twitter.com/download/iphone\" r...   \n",
       "\n",
       "                                                   text  retweeted_status_id  \\\n",
       "1225  I know we only rate dogs, but since it's Easte...                  NaN   \n",
       "1435  Please stop sending in saber-toothed tigers. T...                  NaN   \n",
       "\n",
       "      retweeted_status_user_id retweeted_status_timestamp  \\\n",
       "1225                       NaN                        NaN   \n",
       "1435                       NaN                        NaN   \n",
       "\n",
       "                                          expanded_urls    ...      p1_conf  \\\n",
       "1225  https://twitter.com/dog_rates/status/714141408...    ...     0.586951   \n",
       "1435  https://twitter.com/dog_rates/status/697259378...    ...     0.999223   \n",
       "\n",
       "      p1_dog                p2   p2_conf p2_dog       p3   p3_conf p3_dog  \\\n",
       "1225    True  golden_retriever  0.378812   True  redbone  0.003605   True   \n",
       "1435    True             boxer  0.000187   True  whippet  0.000151   True   \n",
       "\n",
       "      retweet_count fav_count  \n",
       "1225            NaN       NaN  \n",
       "1435            NaN       NaN  \n",
       "\n",
       "[2 rows x 30 columns]"
      ]
     },
     "execution_count": 15,
     "metadata": {},
     "output_type": "execute_result"
    }
   ],
   "source": [
    "# converting tweet_id into string object type to facilitate merging\n",
    "wrd_df = wrd_df.astype({'tweet_id': \"str\"})\n",
    "img_df = img_df.astype({'tweet_id': \"str\"})\n",
    "# merging the first we rate dogs dataset with image prediction first\n",
    "wrd_img_df = wrd_df.merge(img_df, on='tweet_id', how='left')\n",
    "# resolving column datatype issue so that we can merge them together (tweet_id)\n",
    "cleaned_tweet_df = tweet_df[tweet_df['tweet_id']!='nil']\n",
    "# casting tweet_id into consistent data type\n",
    "cleaned_tweet_df = cleaned_tweet_df.astype({'tweet_id': 'str'})\n",
    "# merging the columns now, creating a master dataset\n",
    "main_df = wrd_img_df.merge(cleaned_tweet_df, on='tweet_id', how='left')\n",
    "main_df.sample(2)"
   ]
  },
  {
   "cell_type": "markdown",
   "metadata": {},
   "source": [
    "#### Test"
   ]
  },
  {
   "cell_type": "code",
   "execution_count": 16,
   "metadata": {
    "scrolled": true
   },
   "outputs": [
    {
     "data": {
      "text/plain": [
       "Index(['tweet_id', 'in_reply_to_status_id', 'in_reply_to_user_id', 'timestamp',\n",
       "       'source', 'text', 'retweeted_status_id', 'retweeted_status_user_id',\n",
       "       'retweeted_status_timestamp', 'expanded_urls', 'rating_numerator',\n",
       "       'rating_denominator', 'name', 'doggo', 'floofer', 'pupper', 'puppo',\n",
       "       'jpg_url', 'img_num', 'p1', 'p1_conf', 'p1_dog', 'p2', 'p2_conf',\n",
       "       'p2_dog', 'p3', 'p3_conf', 'p3_dog', 'retweet_count', 'fav_count'],\n",
       "      dtype='object')"
      ]
     },
     "execution_count": 16,
     "metadata": {},
     "output_type": "execute_result"
    }
   ],
   "source": [
    "# checking if all tables have been properly joined together\n",
    "main_df.columns"
   ]
  },
  {
   "cell_type": "markdown",
   "metadata": {},
   "source": [
    "Seems like the tables have been successfully merged into a master dataset based on tweet_id"
   ]
  },
  {
   "cell_type": "markdown",
   "metadata": {},
   "source": [
    "### Issue #2: Fixing the dog rating column (rating_numerator and denominator)\n"
   ]
  },
  {
   "cell_type": "markdown",
   "metadata": {
    "collapsed": true,
    "extensions": {
     "jupyter_dashboards": {
      "version": 1,
      "views": {
       "grid_default": {
        "hidden": true
       },
       "report_default": {
        "hidden": true
       }
      }
     }
    }
   },
   "source": [
    "#### Define\n",
    "\n",
    "Issues resolved in this step:\n",
    "1. Quality issue #1 - there are a number of numerator that are exceedingly high, we will attempted to normalize it\n",
    "2. Quality issue #8 - Redundant columns after fixing dog rating columns (rating_numerator and rating denominator) \n"
   ]
  },
  {
   "cell_type": "markdown",
   "metadata": {},
   "source": [
    "#### Code"
   ]
  },
  {
   "cell_type": "code",
   "execution_count": 17,
   "metadata": {},
   "outputs": [],
   "source": [
    "rating_cleaned_main_df = (\n",
    "    main_df\n",
    "    # create a new column for the rating\n",
    "    .assign(doggo_rating=lambda x: x.rating_numerator/x.rating_denominator)\n",
    "    .drop(columns=['rating_numerator', 'rating_denominator'])\n",
    ")"
   ]
  },
  {
   "cell_type": "markdown",
   "metadata": {},
   "source": [
    "#### Test\n",
    "\n",
    "Check the following:\n",
    "1. a new rating column has been created\n",
    "2. redundant rating columns has been removed"
   ]
  },
  {
   "cell_type": "code",
   "execution_count": 18,
   "metadata": {},
   "outputs": [
    {
     "data": {
      "text/plain": [
       "1344    1.2\n",
       "1753    1.2\n",
       "1623    1.1\n",
       "838     1.2\n",
       "326     1.3\n",
       "Name: doggo_rating, dtype: float64"
      ]
     },
     "execution_count": 18,
     "metadata": {},
     "output_type": "execute_result"
    }
   ],
   "source": [
    "# checking new rating column\n",
    "rating_cleaned_main_df['doggo_rating'].sample(5)"
   ]
  },
  {
   "cell_type": "code",
   "execution_count": 19,
   "metadata": {
    "scrolled": true
   },
   "outputs": [
    {
     "data": {
      "text/plain": [
       "Index(['tweet_id', 'in_reply_to_status_id', 'in_reply_to_user_id', 'timestamp',\n",
       "       'source', 'text', 'retweeted_status_id', 'retweeted_status_user_id',\n",
       "       'retweeted_status_timestamp', 'expanded_urls', 'name', 'doggo',\n",
       "       'floofer', 'pupper', 'puppo', 'jpg_url', 'img_num', 'p1', 'p1_conf',\n",
       "       'p1_dog', 'p2', 'p2_conf', 'p2_dog', 'p3', 'p3_conf', 'p3_dog',\n",
       "       'retweet_count', 'fav_count', 'doggo_rating'],\n",
       "      dtype='object')"
      ]
     },
     "execution_count": 19,
     "metadata": {},
     "output_type": "execute_result"
    }
   ],
   "source": [
    "# checking if redundant rating columns have been removed\n",
    "rating_cleaned_main_df.columns"
   ]
  },
  {
   "cell_type": "markdown",
   "metadata": {},
   "source": [
    "### Issue #3: Clean up the predicted dog breed columns (p1, p2, p3) based on the highest confidence score\n"
   ]
  },
  {
   "cell_type": "markdown",
   "metadata": {},
   "source": [
    "#### Define\n",
    "\n",
    "Issues resolved in this step:\n",
    "\n",
    "1. Quality issue #5 - **Image Prediction Dataset**: (Validity) There are columns named p1, p2, p3 which are all different predictions, we will combine them into 1 column using the prediction with the highest confidence score\n",
    "2. Remove rows with NaN or None dog breed classification for tidiness"
   ]
  },
  {
   "cell_type": "code",
   "execution_count": 20,
   "metadata": {
    "scrolled": true
   },
   "outputs": [
    {
     "name": "stderr",
     "output_type": "stream",
     "text": [
      "/opt/conda/lib/python3.6/site-packages/ipykernel_launcher.py:11: FutureWarning: set_value is deprecated and will be removed in a future release. Please use .at[] or .iat[] accessors instead\n",
      "  # This is added back by InteractiveShellApp.init_path()\n",
      "/opt/conda/lib/python3.6/site-packages/ipykernel_launcher.py:5: FutureWarning: set_value is deprecated and will be removed in a future release. Please use .at[] or .iat[] accessors instead\n",
      "  \"\"\"\n",
      "/opt/conda/lib/python3.6/site-packages/ipykernel_launcher.py:7: FutureWarning: set_value is deprecated and will be removed in a future release. Please use .at[] or .iat[] accessors instead\n",
      "  import sys\n",
      "/opt/conda/lib/python3.6/site-packages/ipykernel_launcher.py:9: FutureWarning: set_value is deprecated and will be removed in a future release. Please use .at[] or .iat[] accessors instead\n",
      "  if __name__ == '__main__':\n"
     ]
    },
    {
     "data": {
      "text/plain": [
       "None                           324\n",
       "golden_retriever               173\n",
       "Labrador_retriever             113\n",
       "Pembroke                        96\n",
       "Chihuahua                       95\n",
       "pug                             65\n",
       "toy_poodle                      52\n",
       "chow                            51\n",
       "Samoyed                         46\n",
       "Pomeranian                      42\n",
       "cocker_spaniel                  34\n",
       "malamute                        34\n",
       "French_bulldog                  32\n",
       "Chesapeake_Bay_retriever        31\n",
       "miniature_pinscher              26\n",
       "Cardigan                        23\n",
       "Eskimo_dog                      22\n",
       "Staffordshire_bullterrier       22\n",
       "German_shepherd                 21\n",
       "beagle                          21\n",
       "Shih-Tzu                        20\n",
       "Siberian_husky                  20\n",
       "kuvasz                          19\n",
       "Lakeland_terrier                19\n",
       "Shetland_sheepdog               19\n",
       "Maltese_dog                     19\n",
       "Rottweiler                      19\n",
       "Italian_greyhound               17\n",
       "basset                          17\n",
       "West_Highland_white_terrier     16\n",
       "                              ... \n",
       "Gordon_setter                    4\n",
       "Weimaraner                       4\n",
       "giant_schnauzer                  4\n",
       "bluetick                         4\n",
       "Saluki                           4\n",
       "Welsh_springer_spaniel           4\n",
       "Tibetan_terrier                  4\n",
       "Brabancon_griffon                3\n",
       "Greater_Swiss_Mountain_dog       3\n",
       "Irish_water_spaniel              3\n",
       "komondor                         3\n",
       "cairn                            3\n",
       "Leonberg                         3\n",
       "briard                           3\n",
       "curly-coated_retriever           3\n",
       "toy_terrier                      3\n",
       "groenendael                      2\n",
       "Sussex_spaniel                   2\n",
       "Australian_terrier               2\n",
       "wire-haired_fox_terrier          2\n",
       "black-and-tan_coonhound          2\n",
       "Appenzeller                      2\n",
       "Bouvier_des_Flandres             1\n",
       "silky_terrier                    1\n",
       "standard_schnauzer               1\n",
       "Irish_wolfhound                  1\n",
       "clumber                          1\n",
       "Scotch_terrier                   1\n",
       "EntleBucher                      1\n",
       "Japanese_spaniel                 1\n",
       "Name: doggo_breed, Length: 114, dtype: int64"
      ]
     },
     "execution_count": 20,
     "metadata": {},
     "output_type": "execute_result"
    }
   ],
   "source": [
    "rating_cleaned_main_df['doggo_breed'] = 'None'\n",
    "\n",
    "for i, row in rating_cleaned_main_df.iterrows():\n",
    "    if row.p1_dog:\n",
    "        rating_cleaned_main_df.set_value(i, 'doggo_breed', row.p1)\n",
    "    elif row.p2_dog:\n",
    "        rating_cleaned_main_df.set_value(i, 'doggo_breed', row.p2)\n",
    "    elif row.p3_dog:\n",
    "        rating_cleaned_main_df.set_value(i, 'doggo_breed', row.p3)\n",
    "    else:\n",
    "        rating_cleaned_main_df.set_value(i, 'doggo_breed', 'None')\n",
    "\n",
    "rating_cleaned_main_df.doggo_breed.value_counts()"
   ]
  },
  {
   "cell_type": "markdown",
   "metadata": {},
   "source": [
    "#### Test\n",
    "\n",
    "Check the following:\n",
    "1. A correct dog breed has been assigned based on the highest confidence score\n",
    "2. Removed doggo_breed that are NaN"
   ]
  },
  {
   "cell_type": "code",
   "execution_count": 21,
   "metadata": {},
   "outputs": [
    {
     "data": {
      "text/html": [
       "<div>\n",
       "<style scoped>\n",
       "    .dataframe tbody tr th:only-of-type {\n",
       "        vertical-align: middle;\n",
       "    }\n",
       "\n",
       "    .dataframe tbody tr th {\n",
       "        vertical-align: top;\n",
       "    }\n",
       "\n",
       "    .dataframe thead th {\n",
       "        text-align: right;\n",
       "    }\n",
       "</style>\n",
       "<table border=\"1\" class=\"dataframe\">\n",
       "  <thead>\n",
       "    <tr style=\"text-align: right;\">\n",
       "      <th></th>\n",
       "      <th>p1</th>\n",
       "      <th>p2</th>\n",
       "      <th>p3</th>\n",
       "      <th>p1_conf</th>\n",
       "      <th>p2_conf</th>\n",
       "      <th>p3_conf</th>\n",
       "      <th>doggo_breed</th>\n",
       "    </tr>\n",
       "  </thead>\n",
       "  <tbody>\n",
       "    <tr>\n",
       "      <th>1580</th>\n",
       "      <td>pug</td>\n",
       "      <td>Chihuahua</td>\n",
       "      <td>Shih-Tzu</td>\n",
       "      <td>0.178205</td>\n",
       "      <td>0.149164</td>\n",
       "      <td>0.120505</td>\n",
       "      <td>pug</td>\n",
       "    </tr>\n",
       "    <tr>\n",
       "      <th>1750</th>\n",
       "      <td>NaN</td>\n",
       "      <td>NaN</td>\n",
       "      <td>NaN</td>\n",
       "      <td>NaN</td>\n",
       "      <td>NaN</td>\n",
       "      <td>NaN</td>\n",
       "      <td>NaN</td>\n",
       "    </tr>\n",
       "    <tr>\n",
       "      <th>1140</th>\n",
       "      <td>Border_collie</td>\n",
       "      <td>collie</td>\n",
       "      <td>Eskimo_dog</td>\n",
       "      <td>0.462408</td>\n",
       "      <td>0.214556</td>\n",
       "      <td>0.035604</td>\n",
       "      <td>Border_collie</td>\n",
       "    </tr>\n",
       "    <tr>\n",
       "      <th>1296</th>\n",
       "      <td>toy_poodle</td>\n",
       "      <td>miniature_poodle</td>\n",
       "      <td>teddy</td>\n",
       "      <td>0.908491</td>\n",
       "      <td>0.082652</td>\n",
       "      <td>0.005786</td>\n",
       "      <td>toy_poodle</td>\n",
       "    </tr>\n",
       "    <tr>\n",
       "      <th>1160</th>\n",
       "      <td>Siamese_cat</td>\n",
       "      <td>pug</td>\n",
       "      <td>quilt</td>\n",
       "      <td>0.950526</td>\n",
       "      <td>0.018877</td>\n",
       "      <td>0.007628</td>\n",
       "      <td>pug</td>\n",
       "    </tr>\n",
       "    <tr>\n",
       "      <th>1288</th>\n",
       "      <td>muzzle</td>\n",
       "      <td>basenji</td>\n",
       "      <td>Boston_bull</td>\n",
       "      <td>0.243890</td>\n",
       "      <td>0.187158</td>\n",
       "      <td>0.092727</td>\n",
       "      <td>basenji</td>\n",
       "    </tr>\n",
       "    <tr>\n",
       "      <th>1040</th>\n",
       "      <td>NaN</td>\n",
       "      <td>NaN</td>\n",
       "      <td>NaN</td>\n",
       "      <td>NaN</td>\n",
       "      <td>NaN</td>\n",
       "      <td>NaN</td>\n",
       "      <td>NaN</td>\n",
       "    </tr>\n",
       "    <tr>\n",
       "      <th>786</th>\n",
       "      <td>toy_poodle</td>\n",
       "      <td>miniature_poodle</td>\n",
       "      <td>Lakeland_terrier</td>\n",
       "      <td>0.719941</td>\n",
       "      <td>0.251546</td>\n",
       "      <td>0.007008</td>\n",
       "      <td>toy_poodle</td>\n",
       "    </tr>\n",
       "    <tr>\n",
       "      <th>723</th>\n",
       "      <td>seat_belt</td>\n",
       "      <td>golden_retriever</td>\n",
       "      <td>Labrador_retriever</td>\n",
       "      <td>0.474292</td>\n",
       "      <td>0.171393</td>\n",
       "      <td>0.110592</td>\n",
       "      <td>golden_retriever</td>\n",
       "    </tr>\n",
       "    <tr>\n",
       "      <th>427</th>\n",
       "      <td>NaN</td>\n",
       "      <td>NaN</td>\n",
       "      <td>NaN</td>\n",
       "      <td>NaN</td>\n",
       "      <td>NaN</td>\n",
       "      <td>NaN</td>\n",
       "      <td>NaN</td>\n",
       "    </tr>\n",
       "  </tbody>\n",
       "</table>\n",
       "</div>"
      ],
      "text/plain": [
       "                 p1                p2                  p3   p1_conf   p2_conf  \\\n",
       "1580            pug         Chihuahua            Shih-Tzu  0.178205  0.149164   \n",
       "1750            NaN               NaN                 NaN       NaN       NaN   \n",
       "1140  Border_collie            collie          Eskimo_dog  0.462408  0.214556   \n",
       "1296     toy_poodle  miniature_poodle               teddy  0.908491  0.082652   \n",
       "1160    Siamese_cat               pug               quilt  0.950526  0.018877   \n",
       "1288         muzzle           basenji         Boston_bull  0.243890  0.187158   \n",
       "1040            NaN               NaN                 NaN       NaN       NaN   \n",
       "786      toy_poodle  miniature_poodle    Lakeland_terrier  0.719941  0.251546   \n",
       "723       seat_belt  golden_retriever  Labrador_retriever  0.474292  0.171393   \n",
       "427             NaN               NaN                 NaN       NaN       NaN   \n",
       "\n",
       "       p3_conf       doggo_breed  \n",
       "1580  0.120505               pug  \n",
       "1750       NaN               NaN  \n",
       "1140  0.035604     Border_collie  \n",
       "1296  0.005786        toy_poodle  \n",
       "1160  0.007628               pug  \n",
       "1288  0.092727           basenji  \n",
       "1040       NaN               NaN  \n",
       "786   0.007008        toy_poodle  \n",
       "723   0.110592  golden_retriever  \n",
       "427        NaN               NaN  "
      ]
     },
     "execution_count": 21,
     "metadata": {},
     "output_type": "execute_result"
    }
   ],
   "source": [
    "# high level overview of the predictions and the respective assigned dog breed based on confidence\n",
    "rating_cleaned_main_df[['p1','p2','p3','p1_conf','p2_conf','p3_conf','doggo_breed']].sample(10)"
   ]
  },
  {
   "cell_type": "code",
   "execution_count": 22,
   "metadata": {},
   "outputs": [
    {
     "data": {
      "text/plain": [
       "324"
      ]
     },
     "execution_count": 22,
     "metadata": {},
     "output_type": "execute_result"
    }
   ],
   "source": [
    "# we will need to remove doggo_breeds that are None, NaN to tidy up the dataset\n",
    "# first we check the number of rows with \"None\" and Null (NaN)\n",
    "rating_cleaned_main_df.query('doggo_breed == \"None\"')['doggo_breed'].count()"
   ]
  },
  {
   "cell_type": "code",
   "execution_count": 23,
   "metadata": {},
   "outputs": [
    {
     "data": {
      "text/plain": [
       "281"
      ]
     },
     "execution_count": 23,
     "metadata": {},
     "output_type": "execute_result"
    }
   ],
   "source": [
    "# next, we look at doggo breeds that are Null (NaN)\n",
    "rating_cleaned_main_df['doggo_breed'].isna().sum()"
   ]
  },
  {
   "cell_type": "code",
   "execution_count": 24,
   "metadata": {
    "scrolled": true
   },
   "outputs": [
    {
     "name": "stdout",
     "output_type": "stream",
     "text": [
      "Number of NaN rows: 0\n",
      "Number of None rows: 324\n"
     ]
    }
   ],
   "source": [
    "# we will go ahead and remove these data issues\n",
    "breed_cleaned_main_df = (\n",
    "    rating_cleaned_main_df\n",
    "    # remove NaN\n",
    "    .dropna(subset=['doggo_breed'])\n",
    ")\n",
    "\n",
    "none_count = breed_cleaned_main_df.query('doggo_breed == \"None\"')['doggo_breed'].count()\n",
    "\n",
    "print(f'Number of NaN rows: {breed_cleaned_main_df.doggo_breed.isna().sum()}\\nNumber of None rows: {none_count}')"
   ]
  },
  {
   "cell_type": "markdown",
   "metadata": {},
   "source": [
    "We do not remove \"none\" rows as there might be other useful columns in the same row."
   ]
  },
  {
   "cell_type": "markdown",
   "metadata": {},
   "source": [
    "### Issue #4: General cleanup of the master dataset\n"
   ]
  },
  {
   "cell_type": "markdown",
   "metadata": {},
   "source": [
    "#### Define\n",
    "\n",
    "Issues resolved in this step:\n",
    "\n",
    "1. Quality issue #2 - removing redundant columns (preserving expanded_url, dropping source)\n",
    "2. Quality issue #4 - fixing naming issues in \"name\" column as some have weird alphabets\n",
    "3. Quality issue #6 - fixing datatypes of certain columns (timestamp)\n",
    "4. Tidiness/Structural issue #1 - removing unecessary columns"
   ]
  },
  {
   "cell_type": "code",
   "execution_count": 25,
   "metadata": {
    "scrolled": true
   },
   "outputs": [
    {
     "name": "stderr",
     "output_type": "stream",
     "text": [
      "/opt/conda/lib/python3.6/site-packages/pandas/core/generic.py:5890: SettingWithCopyWarning: \n",
      "A value is trying to be set on a copy of a slice from a DataFrame\n",
      "\n",
      "See the caveats in the documentation: http://pandas.pydata.org/pandas-docs/stable/indexing.html#indexing-view-versus-copy\n",
      "  self._update_inplace(new_data)\n",
      "/opt/conda/lib/python3.6/site-packages/ipykernel_launcher.py:12: SettingWithCopyWarning: \n",
      "A value is trying to be set on a copy of a slice from a DataFrame.\n",
      "Try using .loc[row_indexer,col_indexer] = value instead\n",
      "\n",
      "See the caveats in the documentation: http://pandas.pydata.org/pandas-docs/stable/indexing.html#indexing-view-versus-copy\n",
      "  if sys.path[0] == '':\n",
      "/opt/conda/lib/python3.6/site-packages/pandas/core/indexing.py:543: SettingWithCopyWarning: \n",
      "A value is trying to be set on a copy of a slice from a DataFrame.\n",
      "Try using .loc[row_indexer,col_indexer] = value instead\n",
      "\n",
      "See the caveats in the documentation: http://pandas.pydata.org/pandas-docs/stable/indexing.html#indexing-view-versus-copy\n",
      "  self.obj[item] = s\n"
     ]
    }
   ],
   "source": [
    "# replacing None with empty strings\n",
    "breed_cleaned_main_df.doggo.replace('None', '', inplace=True)\n",
    "breed_cleaned_main_df.floofer.replace('None', '', inplace=True)\n",
    "breed_cleaned_main_df.pupper.replace('None', '', inplace=True)\n",
    "breed_cleaned_main_df.puppo.replace('None', '', inplace=True)\n",
    "\n",
    "# combining the different columns into a 'stage' column\n",
    "breed_cleaned_main_df['stage'] = (\n",
    "    breed_cleaned_main_df.doggo +\n",
    "    breed_cleaned_main_df.floofer +\n",
    "    breed_cleaned_main_df.pupper +\n",
    "    breed_cleaned_main_df.puppo\n",
    ")\n",
    "\n",
    "# formatting entires with multiple dog stages \n",
    "breed_cleaned_main_df.loc[breed_cleaned_main_df.stage == 'doggopupper', 'stage'] = 'doggo,pupper'\n",
    "breed_cleaned_main_df.loc[breed_cleaned_main_df.stage == 'doggopuppo', 'stage'] = 'doggo,puppo'\n",
    "breed_cleaned_main_df.loc[breed_cleaned_main_df.stage == 'doggofloofer', 'stage'] = 'doggo,floofer'"
   ]
  },
  {
   "cell_type": "code",
   "execution_count": 26,
   "metadata": {},
   "outputs": [
    {
     "data": {
      "text/html": [
       "<div>\n",
       "<style scoped>\n",
       "    .dataframe tbody tr th:only-of-type {\n",
       "        vertical-align: middle;\n",
       "    }\n",
       "\n",
       "    .dataframe tbody tr th {\n",
       "        vertical-align: top;\n",
       "    }\n",
       "\n",
       "    .dataframe thead th {\n",
       "        text-align: right;\n",
       "    }\n",
       "</style>\n",
       "<table border=\"1\" class=\"dataframe\">\n",
       "  <thead>\n",
       "    <tr style=\"text-align: right;\">\n",
       "      <th></th>\n",
       "      <th>tweet_id</th>\n",
       "      <th>in_reply_to_status_id</th>\n",
       "      <th>in_reply_to_user_id</th>\n",
       "      <th>timestamp</th>\n",
       "      <th>source</th>\n",
       "      <th>text</th>\n",
       "      <th>retweeted_status_id</th>\n",
       "      <th>retweeted_status_user_id</th>\n",
       "      <th>retweeted_status_timestamp</th>\n",
       "      <th>expanded_urls</th>\n",
       "      <th>...</th>\n",
       "      <th>p2_conf</th>\n",
       "      <th>p2_dog</th>\n",
       "      <th>p3</th>\n",
       "      <th>p3_conf</th>\n",
       "      <th>p3_dog</th>\n",
       "      <th>retweet_count</th>\n",
       "      <th>fav_count</th>\n",
       "      <th>doggo_rating</th>\n",
       "      <th>doggo_breed</th>\n",
       "      <th>stage</th>\n",
       "    </tr>\n",
       "  </thead>\n",
       "  <tbody>\n",
       "    <tr>\n",
       "      <th>1695</th>\n",
       "      <td>681261549936340994</td>\n",
       "      <td>NaN</td>\n",
       "      <td>NaN</td>\n",
       "      <td>2015-12-27 23:53:05 +0000</td>\n",
       "      <td>&lt;a href=\"http://twitter.com/download/iphone\" r...</td>\n",
       "      <td>Say hello to Panda. He's a Quackadilly Shooste...</td>\n",
       "      <td>NaN</td>\n",
       "      <td>NaN</td>\n",
       "      <td>NaN</td>\n",
       "      <td>https://twitter.com/dog_rates/status/681261549...</td>\n",
       "      <td>...</td>\n",
       "      <td>0.095429</td>\n",
       "      <td>True</td>\n",
       "      <td>Maltese_dog</td>\n",
       "      <td>0.065738</td>\n",
       "      <td>True</td>\n",
       "      <td>NaN</td>\n",
       "      <td>NaN</td>\n",
       "      <td>0.9</td>\n",
       "      <td>Tibetan_terrier</td>\n",
       "      <td></td>\n",
       "    </tr>\n",
       "    <tr>\n",
       "      <th>1328</th>\n",
       "      <td>705970349788291072</td>\n",
       "      <td>NaN</td>\n",
       "      <td>NaN</td>\n",
       "      <td>2016-03-05 04:17:02 +0000</td>\n",
       "      <td>&lt;a href=\"http://twitter.com/download/iphone\" r...</td>\n",
       "      <td>This is Lucy. She's a Venetian Kerploof. Suppo...</td>\n",
       "      <td>NaN</td>\n",
       "      <td>NaN</td>\n",
       "      <td>NaN</td>\n",
       "      <td>https://twitter.com/dog_rates/status/705970349...</td>\n",
       "      <td>...</td>\n",
       "      <td>0.112413</td>\n",
       "      <td>True</td>\n",
       "      <td>chow</td>\n",
       "      <td>0.036953</td>\n",
       "      <td>True</td>\n",
       "      <td>NaN</td>\n",
       "      <td>NaN</td>\n",
       "      <td>1.2</td>\n",
       "      <td>golden_retriever</td>\n",
       "      <td></td>\n",
       "    </tr>\n",
       "    <tr>\n",
       "      <th>744</th>\n",
       "      <td>780192070812196864</td>\n",
       "      <td>NaN</td>\n",
       "      <td>NaN</td>\n",
       "      <td>2016-09-25 23:47:39 +0000</td>\n",
       "      <td>&lt;a href=\"http://twitter.com/download/iphone\" r...</td>\n",
       "      <td>We only rate dogs. Pls stop sending in non-can...</td>\n",
       "      <td>NaN</td>\n",
       "      <td>NaN</td>\n",
       "      <td>NaN</td>\n",
       "      <td>https://twitter.com/dog_rates/status/780192070...</td>\n",
       "      <td>...</td>\n",
       "      <td>0.091474</td>\n",
       "      <td>False</td>\n",
       "      <td>hatchet</td>\n",
       "      <td>0.073545</td>\n",
       "      <td>False</td>\n",
       "      <td>NaN</td>\n",
       "      <td>NaN</td>\n",
       "      <td>1.1</td>\n",
       "      <td>vizsla</td>\n",
       "      <td></td>\n",
       "    </tr>\n",
       "    <tr>\n",
       "      <th>2305</th>\n",
       "      <td>666837028449972224</td>\n",
       "      <td>NaN</td>\n",
       "      <td>NaN</td>\n",
       "      <td>2015-11-18 04:35:11 +0000</td>\n",
       "      <td>&lt;a href=\"http://twitter.com/download/iphone\" r...</td>\n",
       "      <td>My goodness. Very rare dog here. Large. Tail d...</td>\n",
       "      <td>NaN</td>\n",
       "      <td>NaN</td>\n",
       "      <td>NaN</td>\n",
       "      <td>https://twitter.com/dog_rates/status/666837028...</td>\n",
       "      <td>...</td>\n",
       "      <td>0.114071</td>\n",
       "      <td>False</td>\n",
       "      <td>common_iguana</td>\n",
       "      <td>0.043255</td>\n",
       "      <td>False</td>\n",
       "      <td>NaN</td>\n",
       "      <td>NaN</td>\n",
       "      <td>0.3</td>\n",
       "      <td>None</td>\n",
       "      <td></td>\n",
       "    </tr>\n",
       "    <tr>\n",
       "      <th>988</th>\n",
       "      <td>748977405889503236</td>\n",
       "      <td>NaN</td>\n",
       "      <td>NaN</td>\n",
       "      <td>2016-07-01 20:31:43 +0000</td>\n",
       "      <td>&lt;a href=\"http://twitter.com/download/iphone\" r...</td>\n",
       "      <td>What jokester sent in a pic without a dog in i...</td>\n",
       "      <td>NaN</td>\n",
       "      <td>NaN</td>\n",
       "      <td>NaN</td>\n",
       "      <td>https://twitter.com/dog_rates/status/748977405...</td>\n",
       "      <td>...</td>\n",
       "      <td>0.152810</td>\n",
       "      <td>True</td>\n",
       "      <td>English_setter</td>\n",
       "      <td>0.051835</td>\n",
       "      <td>True</td>\n",
       "      <td>NaN</td>\n",
       "      <td>NaN</td>\n",
       "      <td>1.0</td>\n",
       "      <td>German_short-haired_pointer</td>\n",
       "      <td></td>\n",
       "    </tr>\n",
       "  </tbody>\n",
       "</table>\n",
       "<p>5 rows × 31 columns</p>\n",
       "</div>"
      ],
      "text/plain": [
       "                tweet_id  in_reply_to_status_id  in_reply_to_user_id  \\\n",
       "1695  681261549936340994                    NaN                  NaN   \n",
       "1328  705970349788291072                    NaN                  NaN   \n",
       "744   780192070812196864                    NaN                  NaN   \n",
       "2305  666837028449972224                    NaN                  NaN   \n",
       "988   748977405889503236                    NaN                  NaN   \n",
       "\n",
       "                      timestamp  \\\n",
       "1695  2015-12-27 23:53:05 +0000   \n",
       "1328  2016-03-05 04:17:02 +0000   \n",
       "744   2016-09-25 23:47:39 +0000   \n",
       "2305  2015-11-18 04:35:11 +0000   \n",
       "988   2016-07-01 20:31:43 +0000   \n",
       "\n",
       "                                                 source  \\\n",
       "1695  <a href=\"http://twitter.com/download/iphone\" r...   \n",
       "1328  <a href=\"http://twitter.com/download/iphone\" r...   \n",
       "744   <a href=\"http://twitter.com/download/iphone\" r...   \n",
       "2305  <a href=\"http://twitter.com/download/iphone\" r...   \n",
       "988   <a href=\"http://twitter.com/download/iphone\" r...   \n",
       "\n",
       "                                                   text  retweeted_status_id  \\\n",
       "1695  Say hello to Panda. He's a Quackadilly Shooste...                  NaN   \n",
       "1328  This is Lucy. She's a Venetian Kerploof. Suppo...                  NaN   \n",
       "744   We only rate dogs. Pls stop sending in non-can...                  NaN   \n",
       "2305  My goodness. Very rare dog here. Large. Tail d...                  NaN   \n",
       "988   What jokester sent in a pic without a dog in i...                  NaN   \n",
       "\n",
       "      retweeted_status_user_id retweeted_status_timestamp  \\\n",
       "1695                       NaN                        NaN   \n",
       "1328                       NaN                        NaN   \n",
       "744                        NaN                        NaN   \n",
       "2305                       NaN                        NaN   \n",
       "988                        NaN                        NaN   \n",
       "\n",
       "                                          expanded_urls  ...    p2_conf  \\\n",
       "1695  https://twitter.com/dog_rates/status/681261549...  ...   0.095429   \n",
       "1328  https://twitter.com/dog_rates/status/705970349...  ...   0.112413   \n",
       "744   https://twitter.com/dog_rates/status/780192070...  ...   0.091474   \n",
       "2305  https://twitter.com/dog_rates/status/666837028...  ...   0.114071   \n",
       "988   https://twitter.com/dog_rates/status/748977405...  ...   0.152810   \n",
       "\n",
       "     p2_dog              p3   p3_conf p3_dog retweet_count  fav_count  \\\n",
       "1695   True     Maltese_dog  0.065738   True           NaN        NaN   \n",
       "1328   True            chow  0.036953   True           NaN        NaN   \n",
       "744   False         hatchet  0.073545  False           NaN        NaN   \n",
       "2305  False   common_iguana  0.043255  False           NaN        NaN   \n",
       "988    True  English_setter  0.051835   True           NaN        NaN   \n",
       "\n",
       "     doggo_rating                  doggo_breed stage  \n",
       "1695          0.9              Tibetan_terrier        \n",
       "1328          1.2             golden_retriever        \n",
       "744           1.1                       vizsla        \n",
       "2305          0.3                         None        \n",
       "988           1.0  German_short-haired_pointer        \n",
       "\n",
       "[5 rows x 31 columns]"
      ]
     },
     "execution_count": 26,
     "metadata": {},
     "output_type": "execute_result"
    }
   ],
   "source": [
    "# removing Null\n",
    "breed_cleaned_main_df = breed_cleaned_main_df[breed_cleaned_main_df.retweeted_status_id.isnull()]\n",
    "breed_cleaned_main_df = breed_cleaned_main_df[breed_cleaned_main_df.retweeted_status_user_id.isnull()]\n",
    "breed_cleaned_main_df = breed_cleaned_main_df[breed_cleaned_main_df.retweeted_status_timestamp.isnull()]\n",
    "\n",
    "breed_cleaned_main_df.sample(5)"
   ]
  },
  {
   "cell_type": "code",
   "execution_count": 27,
   "metadata": {},
   "outputs": [
    {
     "data": {
      "text/html": [
       "<div>\n",
       "<style scoped>\n",
       "    .dataframe tbody tr th:only-of-type {\n",
       "        vertical-align: middle;\n",
       "    }\n",
       "\n",
       "    .dataframe tbody tr th {\n",
       "        vertical-align: top;\n",
       "    }\n",
       "\n",
       "    .dataframe thead th {\n",
       "        text-align: right;\n",
       "    }\n",
       "</style>\n",
       "<table border=\"1\" class=\"dataframe\">\n",
       "  <thead>\n",
       "    <tr style=\"text-align: right;\">\n",
       "      <th></th>\n",
       "      <th>tweet_id</th>\n",
       "      <th>timestamp</th>\n",
       "      <th>text</th>\n",
       "      <th>expanded_urls</th>\n",
       "      <th>name</th>\n",
       "      <th>jpg_url</th>\n",
       "      <th>img_num</th>\n",
       "      <th>retweet_count</th>\n",
       "      <th>fav_count</th>\n",
       "      <th>doggo_rating</th>\n",
       "      <th>doggo_breed</th>\n",
       "      <th>stage</th>\n",
       "    </tr>\n",
       "  </thead>\n",
       "  <tbody>\n",
       "    <tr>\n",
       "      <th>13</th>\n",
       "      <td>889638837579907072</td>\n",
       "      <td>2017-07-25 00:10:02 +0000</td>\n",
       "      <td>This is Ted. He does his best. Sometimes that'...</td>\n",
       "      <td>https://twitter.com/dog_rates/status/889638837...</td>\n",
       "      <td>Ted</td>\n",
       "      <td>https://pbs.twimg.com/media/DFihzFfXsAYGDPR.jpg</td>\n",
       "      <td>1.0</td>\n",
       "      <td>NaN</td>\n",
       "      <td>NaN</td>\n",
       "      <td>1.2</td>\n",
       "      <td>French_bulldog</td>\n",
       "      <td></td>\n",
       "    </tr>\n",
       "    <tr>\n",
       "      <th>874</th>\n",
       "      <td>761292947749015552</td>\n",
       "      <td>2016-08-04 20:09:17 +0000</td>\n",
       "      <td>Meet Bonaparte. He's pupset because it's cloud...</td>\n",
       "      <td>https://twitter.com/dog_rates/status/761292947...</td>\n",
       "      <td>Bonaparte</td>\n",
       "      <td>https://pbs.twimg.com/media/CpCn5aXXgAAOPTm.jpg</td>\n",
       "      <td>1.0</td>\n",
       "      <td>NaN</td>\n",
       "      <td>NaN</td>\n",
       "      <td>1.1</td>\n",
       "      <td>standard_poodle</td>\n",
       "      <td></td>\n",
       "    </tr>\n",
       "    <tr>\n",
       "      <th>149</th>\n",
       "      <td>863079547188785154</td>\n",
       "      <td>2017-05-12 17:12:53 +0000</td>\n",
       "      <td>Ladies and gentlemen... I found Pipsy. He may ...</td>\n",
       "      <td>https://twitter.com/dog_rates/status/863079547...</td>\n",
       "      <td>None</td>\n",
       "      <td>https://pbs.twimg.com/media/C_pGRInUwAAmTY_.jpg</td>\n",
       "      <td>1.0</td>\n",
       "      <td>NaN</td>\n",
       "      <td>NaN</td>\n",
       "      <td>1.4</td>\n",
       "      <td>Lakeland_terrier</td>\n",
       "      <td></td>\n",
       "    </tr>\n",
       "    <tr>\n",
       "      <th>2022</th>\n",
       "      <td>672068090318987265</td>\n",
       "      <td>2015-12-02 15:01:33 +0000</td>\n",
       "      <td>Say hello to Gizmo. He's upset because he's no...</td>\n",
       "      <td>https://twitter.com/dog_rates/status/672068090...</td>\n",
       "      <td>Gizmo</td>\n",
       "      <td>https://pbs.twimg.com/media/CVOqW8eUkAESTHj.jpg</td>\n",
       "      <td>1.0</td>\n",
       "      <td>NaN</td>\n",
       "      <td>NaN</td>\n",
       "      <td>0.7</td>\n",
       "      <td>pug</td>\n",
       "      <td></td>\n",
       "    </tr>\n",
       "    <tr>\n",
       "      <th>1855</th>\n",
       "      <td>675531475945709568</td>\n",
       "      <td>2015-12-12 04:23:49 +0000</td>\n",
       "      <td>This is Ellie AKA Queen Slayer of the Orbs. Ve...</td>\n",
       "      <td>https://twitter.com/dog_rates/status/675531475...</td>\n",
       "      <td>Ellie</td>\n",
       "      <td>https://pbs.twimg.com/media/CV_4ShmUYAA3wNu.jpg</td>\n",
       "      <td>1.0</td>\n",
       "      <td>NaN</td>\n",
       "      <td>NaN</td>\n",
       "      <td>1.0</td>\n",
       "      <td>Pembroke</td>\n",
       "      <td></td>\n",
       "    </tr>\n",
       "  </tbody>\n",
       "</table>\n",
       "</div>"
      ],
      "text/plain": [
       "                tweet_id                  timestamp  \\\n",
       "13    889638837579907072  2017-07-25 00:10:02 +0000   \n",
       "874   761292947749015552  2016-08-04 20:09:17 +0000   \n",
       "149   863079547188785154  2017-05-12 17:12:53 +0000   \n",
       "2022  672068090318987265  2015-12-02 15:01:33 +0000   \n",
       "1855  675531475945709568  2015-12-12 04:23:49 +0000   \n",
       "\n",
       "                                                   text  \\\n",
       "13    This is Ted. He does his best. Sometimes that'...   \n",
       "874   Meet Bonaparte. He's pupset because it's cloud...   \n",
       "149   Ladies and gentlemen... I found Pipsy. He may ...   \n",
       "2022  Say hello to Gizmo. He's upset because he's no...   \n",
       "1855  This is Ellie AKA Queen Slayer of the Orbs. Ve...   \n",
       "\n",
       "                                          expanded_urls       name  \\\n",
       "13    https://twitter.com/dog_rates/status/889638837...        Ted   \n",
       "874   https://twitter.com/dog_rates/status/761292947...  Bonaparte   \n",
       "149   https://twitter.com/dog_rates/status/863079547...       None   \n",
       "2022  https://twitter.com/dog_rates/status/672068090...      Gizmo   \n",
       "1855  https://twitter.com/dog_rates/status/675531475...      Ellie   \n",
       "\n",
       "                                              jpg_url  img_num  retweet_count  \\\n",
       "13    https://pbs.twimg.com/media/DFihzFfXsAYGDPR.jpg      1.0            NaN   \n",
       "874   https://pbs.twimg.com/media/CpCn5aXXgAAOPTm.jpg      1.0            NaN   \n",
       "149   https://pbs.twimg.com/media/C_pGRInUwAAmTY_.jpg      1.0            NaN   \n",
       "2022  https://pbs.twimg.com/media/CVOqW8eUkAESTHj.jpg      1.0            NaN   \n",
       "1855  https://pbs.twimg.com/media/CV_4ShmUYAA3wNu.jpg      1.0            NaN   \n",
       "\n",
       "      fav_count  doggo_rating       doggo_breed stage  \n",
       "13          NaN           1.2    French_bulldog        \n",
       "874         NaN           1.1   standard_poodle        \n",
       "149         NaN           1.4  Lakeland_terrier        \n",
       "2022        NaN           0.7               pug        \n",
       "1855        NaN           1.0          Pembroke        "
      ]
     },
     "execution_count": 27,
     "metadata": {},
     "output_type": "execute_result"
    }
   ],
   "source": [
    "# in this code block, we will be fixing the issue of redundant columns\n",
    "final_df = (\n",
    "    breed_cleaned_main_df[['tweet_id', \n",
    "                           'timestamp', \n",
    "                           'text', \n",
    "                           'expanded_urls', \n",
    "                           'name',\n",
    "                           'jpg_url',\n",
    "                           'img_num',\n",
    "                           'retweet_count',\n",
    "                           'fav_count',\n",
    "                           'doggo_rating',\n",
    "                           'doggo_breed',\n",
    "                           'stage']]\n",
    ")\n",
    "final_df.sample(5)"
   ]
  },
  {
   "cell_type": "code",
   "execution_count": 28,
   "metadata": {},
   "outputs": [
    {
     "data": {
      "text/plain": [
       "tweet_id          object\n",
       "timestamp         object\n",
       "text              object\n",
       "expanded_urls     object\n",
       "name              object\n",
       "jpg_url           object\n",
       "img_num          float64\n",
       "retweet_count    float64\n",
       "fav_count        float64\n",
       "doggo_rating     float64\n",
       "doggo_breed       object\n",
       "stage             object\n",
       "dtype: object"
      ]
     },
     "execution_count": 28,
     "metadata": {},
     "output_type": "execute_result"
    }
   ],
   "source": [
    "# in this block, we will be fixing the issue of datatypes\n",
    "final_df.dtypes"
   ]
  },
  {
   "cell_type": "code",
   "execution_count": 29,
   "metadata": {},
   "outputs": [
    {
     "data": {
      "text/plain": [
       "tweet_id                 object\n",
       "timestamp        datetime64[ns]\n",
       "text                     object\n",
       "expanded_urls            object\n",
       "name                     object\n",
       "jpg_url                  object\n",
       "img_num                 float64\n",
       "retweet_count           float64\n",
       "fav_count               float64\n",
       "doggo_rating            float64\n",
       "doggo_breed              object\n",
       "stage                    object\n",
       "dtype: object"
      ]
     },
     "execution_count": 29,
     "metadata": {},
     "output_type": "execute_result"
    }
   ],
   "source": [
    "final_df = final_df.astype({'timestamp': 'datetime64[ns]'})\n",
    "# checking if datatype has been fixed\n",
    "final_df.dtypes"
   ]
  },
  {
   "cell_type": "code",
   "execution_count": 30,
   "metadata": {
    "scrolled": true
   },
   "outputs": [
    {
     "data": {
      "text/plain": [
       "None        644\n",
       "Charlie      11\n",
       "Cooper       10\n",
       "Lucy         10\n",
       "Oliver       10\n",
       "Penny         9\n",
       "Tucker        9\n",
       "Winston       8\n",
       "Sadie         8\n",
       "Daisy         7\n",
       "Toby          7\n",
       "Lola          7\n",
       "Jax           6\n",
       "Bo            6\n",
       "Stanley       6\n",
       "Bella         6\n",
       "Koda          6\n",
       "Scout         5\n",
       "Leo           5\n",
       "Louis         5\n",
       "Buddy         5\n",
       "Rusty         5\n",
       "Chester       5\n",
       "Oscar         5\n",
       "Milo          5\n",
       "Dave          5\n",
       "Bailey        5\n",
       "Clark         4\n",
       "Gary          4\n",
       "Jack          4\n",
       "           ... \n",
       "Corey         1\n",
       "Ralphson      1\n",
       "Bradlay       1\n",
       "Cilantro      1\n",
       "Stu           1\n",
       "Lilly         1\n",
       "Crawford      1\n",
       "Ozzie         1\n",
       "Buckley       1\n",
       "River         1\n",
       "Cal           1\n",
       "Lorelei       1\n",
       "Bradley       1\n",
       "Jennifur      1\n",
       "Edgar         1\n",
       "Aqua          1\n",
       "JD            1\n",
       "Simba         1\n",
       "Tedrick       1\n",
       "Anakin        1\n",
       "Tycho         1\n",
       "Sparky        1\n",
       "Oreo          1\n",
       "Kallie        1\n",
       "Walker        1\n",
       "Hurley        1\n",
       "Bluebert      1\n",
       "Alfy          1\n",
       "Billl         1\n",
       "Sweet         1\n",
       "Name: name, Length: 914, dtype: int64"
      ]
     },
     "execution_count": 30,
     "metadata": {},
     "output_type": "execute_result"
    }
   ],
   "source": [
    "# finally in this code block, we will be fixing the naming issues of certain dogs\n",
    "# to going about to solving this, we will be replacing weird names into None\n",
    "\n",
    "final_df.name = (\n",
    "    final_df.name\n",
    "    .str\n",
    "    .replace('^[a-z]+', 'None')\n",
    ")\n",
    "\n",
    "final_df.name.value_counts()"
   ]
  },
  {
   "cell_type": "markdown",
   "metadata": {},
   "source": [
    "Seems like a majority of dog names were an issue and subsequently coalesced into \"None\""
   ]
  },
  {
   "cell_type": "markdown",
   "metadata": {},
   "source": [
    "## Storing Data\n",
    "Save gathered, assessed, and cleaned master dataset to a CSV file named \"twitter_archive_master.csv\"."
   ]
  },
  {
   "cell_type": "code",
   "execution_count": 31,
   "metadata": {},
   "outputs": [],
   "source": [
    "# storing the final dataset into a csv\n",
    "final_df.to_csv('twitter_archive_master.csv', index=False, encoding='utf-8')"
   ]
  },
  {
   "cell_type": "markdown",
   "metadata": {},
   "source": [
    "## Analyzing and Visualizing Data"
   ]
  },
  {
   "cell_type": "code",
   "execution_count": 32,
   "metadata": {
    "scrolled": true
   },
   "outputs": [
    {
     "data": {
      "text/html": [
       "<div>\n",
       "<style scoped>\n",
       "    .dataframe tbody tr th:only-of-type {\n",
       "        vertical-align: middle;\n",
       "    }\n",
       "\n",
       "    .dataframe tbody tr th {\n",
       "        vertical-align: top;\n",
       "    }\n",
       "\n",
       "    .dataframe thead th {\n",
       "        text-align: right;\n",
       "    }\n",
       "</style>\n",
       "<table border=\"1\" class=\"dataframe\">\n",
       "  <thead>\n",
       "    <tr style=\"text-align: right;\">\n",
       "      <th></th>\n",
       "      <th>data_type</th>\n",
       "      <th>non-null-rows</th>\n",
       "      <th>unique_rows</th>\n",
       "      <th>missing_rows</th>\n",
       "    </tr>\n",
       "  </thead>\n",
       "  <tbody>\n",
       "    <tr>\n",
       "      <th>tweet_id</th>\n",
       "      <td>object</td>\n",
       "      <td>1994</td>\n",
       "      <td>1994</td>\n",
       "      <td>0</td>\n",
       "    </tr>\n",
       "    <tr>\n",
       "      <th>timestamp</th>\n",
       "      <td>datetime64[ns]</td>\n",
       "      <td>1994</td>\n",
       "      <td>1994</td>\n",
       "      <td>0</td>\n",
       "    </tr>\n",
       "    <tr>\n",
       "      <th>text</th>\n",
       "      <td>object</td>\n",
       "      <td>1994</td>\n",
       "      <td>1994</td>\n",
       "      <td>0</td>\n",
       "    </tr>\n",
       "    <tr>\n",
       "      <th>expanded_urls</th>\n",
       "      <td>object</td>\n",
       "      <td>1994</td>\n",
       "      <td>1994</td>\n",
       "      <td>0</td>\n",
       "    </tr>\n",
       "    <tr>\n",
       "      <th>name</th>\n",
       "      <td>object</td>\n",
       "      <td>1994</td>\n",
       "      <td>914</td>\n",
       "      <td>0</td>\n",
       "    </tr>\n",
       "    <tr>\n",
       "      <th>jpg_url</th>\n",
       "      <td>object</td>\n",
       "      <td>1994</td>\n",
       "      <td>1994</td>\n",
       "      <td>0</td>\n",
       "    </tr>\n",
       "    <tr>\n",
       "      <th>img_num</th>\n",
       "      <td>float64</td>\n",
       "      <td>1994</td>\n",
       "      <td>4</td>\n",
       "      <td>0</td>\n",
       "    </tr>\n",
       "    <tr>\n",
       "      <th>retweet_count</th>\n",
       "      <td>float64</td>\n",
       "      <td>0</td>\n",
       "      <td>0</td>\n",
       "      <td>1994</td>\n",
       "    </tr>\n",
       "    <tr>\n",
       "      <th>fav_count</th>\n",
       "      <td>float64</td>\n",
       "      <td>0</td>\n",
       "      <td>0</td>\n",
       "      <td>1994</td>\n",
       "    </tr>\n",
       "    <tr>\n",
       "      <th>doggo_rating</th>\n",
       "      <td>float64</td>\n",
       "      <td>1994</td>\n",
       "      <td>23</td>\n",
       "      <td>0</td>\n",
       "    </tr>\n",
       "    <tr>\n",
       "      <th>doggo_breed</th>\n",
       "      <td>object</td>\n",
       "      <td>1994</td>\n",
       "      <td>114</td>\n",
       "      <td>0</td>\n",
       "    </tr>\n",
       "    <tr>\n",
       "      <th>stage</th>\n",
       "      <td>object</td>\n",
       "      <td>1994</td>\n",
       "      <td>8</td>\n",
       "      <td>0</td>\n",
       "    </tr>\n",
       "  </tbody>\n",
       "</table>\n",
       "</div>"
      ],
      "text/plain": [
       "                    data_type  non-null-rows  unique_rows  missing_rows\n",
       "tweet_id               object           1994         1994             0\n",
       "timestamp      datetime64[ns]           1994         1994             0\n",
       "text                   object           1994         1994             0\n",
       "expanded_urls          object           1994         1994             0\n",
       "name                   object           1994          914             0\n",
       "jpg_url                object           1994         1994             0\n",
       "img_num               float64           1994            4             0\n",
       "retweet_count         float64              0            0          1994\n",
       "fav_count             float64              0            0          1994\n",
       "doggo_rating          float64           1994           23             0\n",
       "doggo_breed            object           1994          114             0\n",
       "stage                  object           1994            8             0"
      ]
     },
     "execution_count": 32,
     "metadata": {},
     "output_type": "execute_result"
    }
   ],
   "source": [
    "summary(final_df)"
   ]
  },
  {
   "cell_type": "code",
   "execution_count": 33,
   "metadata": {},
   "outputs": [],
   "source": [
    "# importing the necessary libraries for visualization and analysis\n",
    "import matplotlib.pyplot as plt\n",
    "import seaborn as sns\n",
    "%matplotlib inline"
   ]
  },
  {
   "cell_type": "markdown",
   "metadata": {},
   "source": [
    "### Define default chart size for all visualizations"
   ]
  },
  {
   "cell_type": "code",
   "execution_count": 34,
   "metadata": {},
   "outputs": [],
   "source": [
    "# define the default chart size for all our visualizations\n",
    "plt.rcParams[\"figure.figsize\"] = (9,7)"
   ]
  },
  {
   "cell_type": "markdown",
   "metadata": {},
   "source": [
    "## Visualization 1: Scatter plot between retweets and favourites"
   ]
  },
  {
   "cell_type": "code",
   "execution_count": 35,
   "metadata": {},
   "outputs": [
    {
     "data": {
      "text/plain": [
       "Text(0.5,0,'Favourites')"
      ]
     },
     "execution_count": 35,
     "metadata": {},
     "output_type": "execute_result"
    },
    {
     "data": {
      "image/png": "[encoded data removed]",
      "text/plain": [
       "<matplotlib.figure.Figure at 0x7fae9e5c8438>"
      ]
     },
     "metadata": {
      "needs_background": "light"
     },
     "output_type": "display_data"
    }
   ],
   "source": [
    "# scatter plot showing the relationship\n",
    "plt.scatter(tweet_df.fav_count, tweet_df.retweet_count)\n",
    "# naming the line chart\n",
    "plt.title(\"Favourite count and Retween Count\", fontsize=17)\n",
    "# adding y-axis labels\n",
    "plt.ylabel('Retweets')\n",
    "# adding x-axis labels\n",
    "plt.xlabel('Favourites')"
   ]
  },
  {
   "cell_type": "markdown",
   "metadata": {},
   "source": [
    "## Visualization 2: Frequency of most rated dog breeds"
   ]
  },
  {
   "cell_type": "code",
   "execution_count": 39,
   "metadata": {
    "scrolled": false
   },
   "outputs": [
    {
     "data": {
      "text/plain": [
       "Text(0.5,0,'Dog Breed')"
      ]
     },
     "execution_count": 39,
     "metadata": {},
     "output_type": "execute_result"
    },
    {
     "data": {
      "image/png": "[encoded data removed]",
      "text/plain": [
       "<matplotlib.figure.Figure at 0x7fae9c495cc0>"
      ]
     },
     "metadata": {
      "needs_background": "light"
     },
     "output_type": "display_data"
    }
   ],
   "source": [
    "doggo_breed_vis = final_df.query('doggo_breed != \"None\"')\n",
    "doggo_breed_vis = doggo_breed_vis.groupby('doggo_breed').filter(lambda x: len(x) >= 25)\n",
    "doggo_breed_vis['doggo_breed'].value_counts().plot(kind='bar')\n",
    "\n",
    "# naming the line chart\n",
    "plt.title(\"Frequency of rated dog breeds\", fontsize=17)\n",
    "# adding y-axis labels\n",
    "plt.ylabel('Frequency')\n",
    "# adding x-axis labels\n",
    "plt.xlabel('Dog Breed')"
   ]
  },
  {
   "cell_type": "markdown",
   "metadata": {},
   "source": [
    "## Visualization 3: Most top most popular dog names"
   ]
  },
  {
   "cell_type": "code",
   "execution_count": 37,
   "metadata": {},
   "outputs": [
    {
     "data": {
      "text/plain": [
       "Text(0.5,0,'Frequency')"
      ]
     },
     "execution_count": 37,
     "metadata": {},
     "output_type": "execute_result"
    },
    {
     "data": {
      "image/png": "[encoded data removed]",
      "text/plain": [
       "<matplotlib.figure.Figure at 0x7fae9c4be518>"
      ]
     },
     "metadata": {
      "needs_background": "light"
     },
     "output_type": "display_data"
    }
   ],
   "source": [
    "final_df.name.value_counts()[1:11].plot('barh')\n",
    "\n",
    "# naming the line chart\n",
    "plt.title(\"Top 10 most popular dog names (excluding None)\", fontsize=17)\n",
    "# adding y-axis labels\n",
    "plt.ylabel('Dog Name')\n",
    "# adding x-axis labels\n",
    "plt.xlabel('Frequency')"
   ]
  },
  {
   "cell_type": "markdown",
   "metadata": {},
   "source": [
    "### Insights:\n",
    "1. There is a strong, positive correlation between retweets and favourite counts\n",
    "\n",
    "2. Golden retrivers are the most rated dog breeds\n",
    "\n",
    "3. The most popular dog name is Charlie, followed by Cooper, Lucy and Oliver."
   ]
  },
  {
   "cell_type": "code",
   "execution_count": null,
   "metadata": {},
   "outputs": [],
   "source": []
  }
 ],
 "metadata": {
  "extensions": {
   "jupyter_dashboards": {
    "activeView": "report_default",
    "version": 1,
    "views": {
     "grid_default": {
      "cellMargin": 10,
      "defaultCellHeight": 20,
      "maxColumns": 12,
      "name": "grid",
      "type": "grid"
     },
     "report_default": {
      "name": "report",
      "type": "report"
     }
    }
   }
  },
  "kernelspec": {
   "display_name": "Python 3",
   "language": "python",
   "name": "python3"
  },
  "language_info": {
   "codemirror_mode": {
    "name": "ipython",
    "version": 3
   },
   "file_extension": ".py",
   "mimetype": "text/x-python",
   "name": "python",
   "nbconvert_exporter": "python",
   "pygments_lexer": "ipython3",
   "version": "3.6.3"
  }
 },
 "nbformat": 4,
 "nbformat_minor": 2
}
